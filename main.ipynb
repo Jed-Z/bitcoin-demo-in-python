{
 "cells": [
  {
   "cell_type": "code",
   "execution_count": 1,
   "id": "8669c19e",
   "metadata": {},
   "outputs": [],
   "source": [
    "import hashlib"
   ]
  },
  {
   "cell_type": "code",
   "execution_count": 2,
   "id": "2efb4c3d",
   "metadata": {},
   "outputs": [],
   "source": [
    "def sha256double(byts):\n",
    "    '''Purpose SHA256 twice to the bytes.'''\n",
    "    return hashlib.sha256(hashlib.sha256(byts).digest()).digest()"
   ]
  },
  {
   "cell_type": "code",
   "execution_count": 3,
   "id": "1a43725a",
   "metadata": {},
   "outputs": [],
   "source": [
    "class MerkleTree:\n",
    "    def __init__(self):\n",
    "        self.txid_list = []\n",
    "        self.merkle_root = ''\n",
    "\n",
    "    def make_merkle_tree(self, txid_list, is_sorted=True):\n",
    "        '''Compute merkle root for the given list of TXIDs.'''\n",
    "        if len(txid_list) == 0:\n",
    "            raise ValueError(\"empty list\")\n",
    "\n",
    "        # Sort TXIDs (strings) in lexicographical order if not ordered\n",
    "        if is_sorted:\n",
    "            self.txid_list = txid_list\n",
    "        else:\n",
    "            self.txid_list = sorted(txid_list)\n",
    "\n",
    "        # Compute merkle root row by row\n",
    "        hashes = [s.encode() for s in self.txid_list]\n",
    "        while len(hashes) > 1:\n",
    "            if len(hashes) & 1:  # Number of hashes is odd\n",
    "                hashes.append(hashes[-1])\n",
    "            next_hashes = []\n",
    "            for i in range(0, len(hashes), 2):\n",
    "                next_hashes.append(hashes[i] + hashes[i+1])\n",
    "            hashes = [sha256double(s) for s in next_hashes]  # Hashes are bytes, not texts\n",
    "\n",
    "        self.merkle_root = hashes[0]\n",
    "        return self.merkle_root  # 32 bytes"
   ]
  },
  {
   "cell_type": "code",
   "execution_count": 4,
   "id": "420d3f2f",
   "metadata": {},
   "outputs": [
    {
     "data": {
      "text/plain": [
       "b'?\\x08\\\\8\\x1c\\x0b\\xa2egr\\x03\\x7f\\xb9/3\\xce{\\x16\\xafg\\x18?\\x1ds\\xb0\\x8c\\xa0\\xe4\\x19\\xfaA\\x0f'"
      ]
     },
     "execution_count": 4,
     "metadata": {},
     "output_type": "execute_result"
    }
   ],
   "source": [
    "mt = MerkleTree()\n",
    "mt.make_merkle_tree([\"aaa\", \"bbb\"])"
   ]
  },
  {
   "cell_type": "code",
   "execution_count": null,
   "id": "8d8a906b",
   "metadata": {},
   "outputs": [],
   "source": []
  },
  {
   "cell_type": "markdown",
   "id": "1ed3474a",
   "metadata": {},
   "source": [
    "## 2 生成账户"
   ]
  },
  {
   "cell_type": "code",
   "execution_count": 29,
   "id": "ae6f4c8b",
   "metadata": {},
   "outputs": [],
   "source": [
    "from ecdsa import SigningKey, VerifyingKey, SECP256k1\n",
    "import base58\n",
    "\n",
    "class Account:\n",
    "    def __init__(self, prikey=''):\n",
    "        '''\n",
    "        Create a Bitcoin account using the given private key.\n",
    "        If private key not provided, generate a new one randomly.\n",
    "        '''\n",
    "        if prikey:\n",
    "            self.private_key = prikey\n",
    "            self.public_key = gen_pubkey_from_prikey(prikey)\n",
    "        else:\n",
    "            self.private_key, self.public_key = self.gen_keypair()\n",
    "        \n",
    "        self.public_key_hash = self.gen_public_key_hash(self.public_key)\n",
    "        self.address = self.gen_address(self.public_key_hash)\n",
    "\n",
    "    @staticmethod\n",
    "    def gen_keypair():\n",
    "        '''Generate a new pair of keys using SECP256k1 ECDSA.'''\n",
    "        sk = SigningKey.generate(curve=SECP256k1)\n",
    "        vk = sk.verifying_key\n",
    "        return sk.to_string(), vk.to_string()\n",
    "        \n",
    "    def gen_pubkey_from_prikey(prikey):\n",
    "        '''Compute public key from the given private key.'''\n",
    "        sk = SigningKey.from_string(prikey, curve=SECP256k1)\n",
    "        vk = sk.verifying_key\n",
    "        return vk.to_string()\n",
    "\n",
    "    @staticmethod\n",
    "    def gen_public_key_hash(pubkey):\n",
    "        '''Compute public key hash.'''\n",
    "        temp = hashlib.sha256(pubkey).digest()\n",
    "        h = hashlib.new('ripemd160')\n",
    "        h.update(temp)\n",
    "        return h.digest()\n",
    "\n",
    "    @staticmethod\n",
    "    def gen_address(pubkeyhash):\n",
    "        '''Compute base58check encoded address.'''\n",
    "        \n",
    "        # Base58check encode\n",
    "        version_byte = b'\\x00'\n",
    "        return base58.b58encode_check(version_byte + pubkeyhash)"
   ]
  },
  {
   "cell_type": "code",
   "execution_count": 30,
   "id": "6db374c2",
   "metadata": {},
   "outputs": [
    {
     "data": {
      "text/plain": [
       "b'14Ry7ULerUfMZ9oWUktyXoKd3vahe1C9qv'"
      ]
     },
     "execution_count": 30,
     "metadata": {},
     "output_type": "execute_result"
    }
   ],
   "source": [
    "account = Account()\n",
    "account.address"
   ]
  },
  {
   "cell_type": "code",
   "execution_count": 6,
   "id": "0f021651",
   "metadata": {},
   "outputs": [
    {
     "data": {
      "text/plain": [
       "b'1PMycacnJaSqwwJqjawXBErnLsZ7RkXUAs'"
      ]
     },
     "execution_count": 6,
     "metadata": {},
     "output_type": "execute_result"
    }
   ],
   "source": [
    "testpubkey = bytes.fromhex(\"0250863ad64a87ae8a2fe83c1af1a8403cb53f53e486d8511dad8a04887e5b2352\")\n",
    "\n",
    "h = hashlib.new('ripemd160')\n",
    "h.update(hashlib.sha256(testpubkey).digest())\n",
    "public_key_hash = h.digest()\n",
    "\n",
    "# Base58check encode\n",
    "address = base58.b58encode_check(b'\\x00' + h.digest())\n",
    "address"
   ]
  },
  {
   "cell_type": "code",
   "execution_count": 7,
   "id": "22cd1c28",
   "metadata": {},
   "outputs": [
    {
     "data": {
      "text/plain": [
       "b'\\xf5JXQ\\xe97+\\x87\\x81\\n\\x8e`\\xcd\\xd2\\xe7\\xcf\\xd8\\x0bn1'"
      ]
     },
     "execution_count": 7,
     "metadata": {},
     "output_type": "execute_result"
    }
   ],
   "source": [
    "h.digest()"
   ]
  },
  {
   "cell_type": "markdown",
   "id": "a743355a",
   "metadata": {},
   "source": [
    "## 3 消息签名和验证"
   ]
  },
  {
   "cell_type": "code",
   "execution_count": null,
   "id": "3c61f99c",
   "metadata": {},
   "outputs": [],
   "source": []
  },
  {
   "cell_type": "markdown",
   "id": "5f2b94d3",
   "metadata": {},
   "source": [
    "## 4 生成自定义交易"
   ]
  },
  {
   "cell_type": "code",
   "execution_count": null,
   "id": "4321cda1",
   "metadata": {},
   "outputs": [],
   "source": []
  },
  {
   "cell_type": "markdown",
   "id": "d59605f1",
   "metadata": {},
   "source": [
    "## 5 打包成区块，组织成链"
   ]
  },
  {
   "cell_type": "code",
   "execution_count": null,
   "id": "ebd16207",
   "metadata": {},
   "outputs": [],
   "source": []
  }
 ],
 "metadata": {
  "kernelspec": {
   "display_name": "Python 3 (ipykernel)",
   "language": "python",
   "name": "python3"
  },
  "language_info": {
   "codemirror_mode": {
    "name": "ipython",
    "version": 3
   },
   "file_extension": ".py",
   "mimetype": "text/x-python",
   "name": "python",
   "nbconvert_exporter": "python",
   "pygments_lexer": "ipython3",
   "version": "3.8.10"
  }
 },
 "nbformat": 4,
 "nbformat_minor": 5
}
