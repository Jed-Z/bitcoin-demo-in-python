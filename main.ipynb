{
 "cells": [
  {
   "cell_type": "markdown",
   "id": "e700281f",
   "metadata": {},
   "source": [
    "# A Simple Bitcoin Demo in Python"
   ]
  },
  {
   "cell_type": "markdown",
   "id": "a30d4fc6",
   "metadata": {},
   "source": [
    "## 1 Merkle Tree"
   ]
  },
  {
   "cell_type": "code",
   "execution_count": 1,
   "id": "2efb4c3d",
   "metadata": {},
   "outputs": [],
   "source": [
    "import hashlib\n",
    "\n",
    "def sha256double(byts):\n",
    "    '''Purpose SHA256 twice to the bytes.'''\n",
    "    return hashlib.sha256(hashlib.sha256(byts).digest()).digest()"
   ]
  },
  {
   "cell_type": "code",
   "execution_count": 2,
   "id": "1a43725a",
   "metadata": {},
   "outputs": [],
   "source": [
    "class MerkleTree:\n",
    "    def __init__(self):\n",
    "        self.txid_list = []\n",
    "        self.merkle_root = ''\n",
    "\n",
    "    def make_merkle_tree(self, txid_list, is_sorted=True):\n",
    "        '''Compute merkle root for the given list of TXIDs.'''\n",
    "        if len(txid_list) == 0:\n",
    "            raise ValueError(\"empty list\")\n",
    "\n",
    "        # Sort TXIDs (strings) in lexicographical order if not ordered\n",
    "        if is_sorted:\n",
    "            self.txid_list = txid_list\n",
    "        else:\n",
    "            self.txid_list = sorted(txid_list)\n",
    "\n",
    "        # Compute merkle root row by row\n",
    "        hashes = [s.encode() for s in self.txid_list]\n",
    "        while len(hashes) > 1:\n",
    "            if len(hashes) & 1:  # Number of hashes is odd\n",
    "                hashes.append(hashes[-1])\n",
    "            next_hashes = []\n",
    "            for i in range(0, len(hashes), 2):\n",
    "                next_hashes.append(hashes[i] + hashes[i+1])\n",
    "            hashes = [sha256double(s) for s in next_hashes]  # Hashes are bytes, not texts\n",
    "\n",
    "        self.merkle_root = hashes[0]\n",
    "        return self.merkle_root  # 32 bytes"
   ]
  },
  {
   "cell_type": "code",
   "execution_count": null,
   "id": "8d8a906b",
   "metadata": {},
   "outputs": [],
   "source": []
  },
  {
   "cell_type": "markdown",
   "id": "1ed3474a",
   "metadata": {},
   "source": [
    "## 2 Bitcoin Accounts"
   ]
  },
  {
   "cell_type": "code",
   "execution_count": 24,
   "id": "ae6f4c8b",
   "metadata": {},
   "outputs": [],
   "source": [
    "import ecdsa\n",
    "from ecdsa import SigningKey, VerifyingKey, SECP256k1\n",
    "import base58\n",
    "\n",
    "class Account:\n",
    "    def __init__(self, prikey=''):\n",
    "        '''\n",
    "        Create a Bitcoin account using the given private key.\n",
    "        If private key not provided, generate a new one randomly.\n",
    "        '''\n",
    "        if prikey:\n",
    "            self.private_key = prikey\n",
    "            self.public_key = self.gen_pubkey_from_prikey(prikey)\n",
    "        else:\n",
    "            self.private_key, self.public_key = self.gen_keypair()\n",
    "        \n",
    "        self.public_key_hash = self.gen_public_key_hash(self.public_key)\n",
    "        self.address = self.gen_address_from_pkh(self.public_key_hash)\n",
    "\n",
    "    @staticmethod\n",
    "    def gen_keypair():\n",
    "        '''Generate a new pair of keys using SECP256k1 ECDSA.'''\n",
    "        sk = SigningKey.generate(curve=SECP256k1) # Private key\n",
    "        vk = sk.verifying_key                     # Public key\n",
    "        return sk.to_string(), vk.to_string()\n",
    "        \n",
    "    @staticmethod\n",
    "    def gen_pubkey_from_prikey(prikey):\n",
    "        '''Compute public key from the given private key.'''\n",
    "        sk = SigningKey.from_string(prikey, curve=SECP256k1)\n",
    "        vk = sk.verifying_key\n",
    "        return vk.to_string()\n",
    "\n",
    "    @staticmethod\n",
    "    def gen_public_key_hash(pubkey):\n",
    "        '''Compute public key hash with \"double hash\".'''\n",
    "        temp = hashlib.sha256(pubkey).digest()\n",
    "        h = hashlib.new('ripemd160')\n",
    "        h.update(temp)\n",
    "        return h.digest()\n",
    "\n",
    "    @staticmethod\n",
    "    def gen_address_from_pkh(pubkeyhash):\n",
    "        '''Compute base58check encoded address.'''\n",
    "        \n",
    "        # Base58check encode\n",
    "        version_prefix = b'\\x00'  # Version prefix of Bitcoin addresses is 0x00\n",
    "        return base58.b58encode_check(version_prefix + pubkeyhash)"
   ]
  },
  {
   "cell_type": "code",
   "execution_count": 25,
   "id": "a75f6eb9",
   "metadata": {},
   "outputs": [],
   "source": [
    "# Generate 100 Bitcoin accounts for testing\n",
    "test_accounts = [Account() for i in range(100)]"
   ]
  },
  {
   "cell_type": "code",
   "execution_count": null,
   "id": "1d924af4",
   "metadata": {},
   "outputs": [],
   "source": []
  },
  {
   "cell_type": "markdown",
   "id": "a743355a",
   "metadata": {},
   "source": [
    "## 3 Signature and Verification"
   ]
  },
  {
   "cell_type": "code",
   "execution_count": 26,
   "id": "3c61f99c",
   "metadata": {},
   "outputs": [],
   "source": [
    "test_message = b\"blockchain-ss-2021\""
   ]
  },
  {
   "cell_type": "code",
   "execution_count": 27,
   "id": "aae3b430",
   "metadata": {},
   "outputs": [],
   "source": [
    "def sign(message, prikey):\n",
    "    '''Sign a byte message using the private key.'''\n",
    "    sk = SigningKey.from_string(prikey, curve=SECP256k1)\n",
    "    return sk.sign(message)\n",
    "    \n",
    "def verify(message, signature, pubkey):\n",
    "    '''\n",
    "    Verify signature using the public key.\n",
    "    Returns true if succeed. Otherwise raises errors.\n",
    "    '''\n",
    "    vk = VerifyingKey.from_string(pubkey, curve=SECP256k1)\n",
    "    return vk.verify(signature, message)"
   ]
  },
  {
   "cell_type": "code",
   "execution_count": 41,
   "id": "8d2a3997",
   "metadata": {},
   "outputs": [
    {
     "name": "stdout",
     "output_type": "stream",
     "text": [
      "All succeeded.\n"
     ]
    }
   ],
   "source": [
    "fail_flag = False\n",
    "\n",
    "for account in test_accounts:\n",
    "    \n",
    "    test_signature = sign(test_message, account.private_key)\n",
    "    try:\n",
    "        verify(test_message, test_signature, account.public_key)\n",
    "    except ecdsa.BadSignatureError as e:\n",
    "        print(e)\n",
    "        fail_flag = True\n",
    "        \n",
    "if not fail_flag:\n",
    "    print(\"All succeeded.\")"
   ]
  },
  {
   "cell_type": "code",
   "execution_count": 38,
   "id": "e16e8fbe",
   "metadata": {},
   "outputs": [
    {
     "name": "stdout",
     "output_type": "stream",
     "text": [
      "Signature verification failed\n"
     ]
    }
   ],
   "source": [
    "# A bad case\n",
    "test_signature = sign(test_message, test_accounts[0].private_key)\n",
    "temp = list(test_signature)\n",
    "temp[-1] += 1  # Modifying one byte in the signature causes corruption\n",
    "bad_signature = bytes(temp)\n",
    "\n",
    "try:\n",
    "    verify(test_message, bad_signature, test_accounts[0].public_key)\n",
    "except ecdsa.BadSignatureError as e:\n",
    "    print(e)"
   ]
  },
  {
   "cell_type": "code",
   "execution_count": null,
   "id": "77283c0e",
   "metadata": {},
   "outputs": [],
   "source": []
  },
  {
   "cell_type": "code",
   "execution_count": 14,
   "id": "0120a327",
   "metadata": {},
   "outputs": [
    {
     "data": {
      "text/plain": [
       "b'Hello'"
      ]
     },
     "execution_count": 14,
     "metadata": {},
     "output_type": "execute_result"
    }
   ],
   "source": [
    "bts = b\"Hello\"\n",
    "bytes(list(bts))"
   ]
  },
  {
   "cell_type": "markdown",
   "id": "5f2b94d3",
   "metadata": {},
   "source": [
    "## 4 Bitcoin Transactions"
   ]
  },
  {
   "cell_type": "code",
   "execution_count": null,
   "id": "4321cda1",
   "metadata": {},
   "outputs": [],
   "source": []
  },
  {
   "cell_type": "markdown",
   "id": "d59605f1",
   "metadata": {},
   "source": [
    "## 5 Bitcoin Blocks"
   ]
  },
  {
   "cell_type": "code",
   "execution_count": null,
   "id": "ebd16207",
   "metadata": {},
   "outputs": [],
   "source": []
  }
 ],
 "metadata": {
  "kernelspec": {
   "display_name": "Python 3 (ipykernel)",
   "language": "python",
   "name": "python3"
  },
  "language_info": {
   "codemirror_mode": {
    "name": "ipython",
    "version": 3
   },
   "file_extension": ".py",
   "mimetype": "text/x-python",
   "name": "python",
   "nbconvert_exporter": "python",
   "pygments_lexer": "ipython3",
   "version": "3.8.10"
  }
 },
 "nbformat": 4,
 "nbformat_minor": 5
}
