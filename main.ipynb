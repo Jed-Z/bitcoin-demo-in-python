{
 "cells": [
  {
   "cell_type": "markdown",
   "id": "d9831995",
   "metadata": {},
   "source": [
    "# A Simple Bitcoin Demo in Python"
   ]
  },
  {
   "cell_type": "markdown",
   "id": "5388bed3",
   "metadata": {},
   "source": [
    "## 1 Merkle Tree"
   ]
  },
  {
   "cell_type": "code",
   "execution_count": 1,
   "id": "2efb4c3d",
   "metadata": {},
   "outputs": [],
   "source": [
    "import hashlib\n",
    "\n",
    "def double_sha256(byts):\n",
    "    '''Purpose SHA256 twice to the bytes.'''\n",
    "    return hashlib.sha256(hashlib.sha256(byts).digest()).digest()"
   ]
  },
  {
   "cell_type": "code",
   "execution_count": 2,
   "id": "1a43725a",
   "metadata": {},
   "outputs": [],
   "source": [
    "class MerkleTree:\n",
    "    def __init__(self):\n",
    "        self.txid_list = list()\n",
    "        self.merkle_root = bytes()\n",
    "\n",
    "    def make_merkle_tree(self, txid_list, is_sorted=True):\n",
    "        '''Compute merkle root for the given list of TXIDs.'''\n",
    "        if len(txid_list) == 0:\n",
    "            raise ValueError(\"empty list\")\n",
    "\n",
    "        # Sort TXIDs (strings) in lexicographical order if not ordered\n",
    "        if is_sorted:\n",
    "            self.txid_list = txid_list\n",
    "        else:\n",
    "            self.txid_list = sorted(txid_list)\n",
    "\n",
    "        # Compute merkle root row by row\n",
    "        hashes = [s.encode() for s in self.txid_list]\n",
    "        while len(hashes) > 1:\n",
    "            if len(hashes) & 1:  # Number of hashes is odd\n",
    "                hashes.append(hashes[-1])\n",
    "            next_hashes = []\n",
    "            for i in range(0, len(hashes), 2):\n",
    "                next_hashes.append(hashes[i] + hashes[i+1])\n",
    "            hashes = [double_sha256(s) for s in next_hashes]  # Hashes are bytes, not texts\n",
    "\n",
    "        self.merkle_root = hashes[0]\n",
    "        return self.merkle_root  # 32 bytes"
   ]
  },
  {
   "cell_type": "code",
   "execution_count": null,
   "id": "bdcaeaaa",
   "metadata": {},
   "outputs": [],
   "source": []
  },
  {
   "cell_type": "markdown",
   "id": "1ed3474a",
   "metadata": {},
   "source": [
    "## 2 Bitcoin Accounts"
   ]
  },
  {
   "cell_type": "code",
   "execution_count": 3,
   "id": "ae6f4c8b",
   "metadata": {},
   "outputs": [],
   "source": [
    "import ecdsa\n",
    "from ecdsa import SigningKey, VerifyingKey, SECP256k1\n",
    "import base58\n",
    "\n",
    "class Account:\n",
    "    pubkey_type = b'\\x04'  # The identification byte 0x04 denotes uncompressed coordinates of public key\n",
    "    \n",
    "    def __init__(self, prikey=''):\n",
    "        '''\n",
    "        Create a Bitcoin account using the given private key.\n",
    "        If private key not provided, generate a new one randomly.\n",
    "        '''\n",
    "        if prikey:\n",
    "            self.private_key = prikey\n",
    "            self.public_key = self.gen_pubkey_from_prikey(prikey)\n",
    "        else:\n",
    "            self.private_key, self.public_key = self.gen_keypair()\n",
    "        \n",
    "        self.public_key_hash = self.gen_public_key_hash(self.public_key)\n",
    "        self.address = self.gen_address_from_pkh(self.public_key_hash)\n",
    "\n",
    "    @staticmethod\n",
    "    def gen_keypair():\n",
    "        '''Generate a new pair of keys using SECP256k1 ECDSA.'''\n",
    "        sk = SigningKey.generate(curve=SECP256k1) # Private key\n",
    "        vk = sk.verifying_key                     # Public key (without prefix)\n",
    "        return sk.to_string(), Account.pubkey_type + vk.to_string()\n",
    "        \n",
    "    @staticmethod\n",
    "    def gen_pubkey_from_prikey(prikey):\n",
    "        '''Compute public key from the given private key.'''\n",
    "        sk = SigningKey.from_string(prikey, curve=SECP256k1)\n",
    "        vk = sk.verifying_key\n",
    "        return Account.pubkey_type + vk.to_string()\n",
    "\n",
    "    @staticmethod\n",
    "    def gen_public_key_hash(pubkey):\n",
    "        '''Compute public key hash with \"double hash\".'''\n",
    "        # Note that pubkey is already prefixed\n",
    "        temp = hashlib.sha256(pubkey).digest()\n",
    "        h = hashlib.new('ripemd160')\n",
    "        h.update(temp)\n",
    "        return h.digest()\n",
    "\n",
    "    @staticmethod\n",
    "    def gen_address_from_pkh(pubkeyhash):\n",
    "        '''Compute base58check encoded address.'''\n",
    "        # Base58check encode\n",
    "        version_prefix = b'\\x00'  # Version prefix of Bitcoin addresses is 0x00\n",
    "        return base58.b58encode_check(version_prefix + pubkeyhash)"
   ]
  },
  {
   "cell_type": "code",
   "execution_count": 4,
   "id": "6fbff4f4",
   "metadata": {},
   "outputs": [
    {
     "name": "stdout",
     "output_type": "stream",
     "text": [
      "Public key: 04f028892bad7ed57d2fb57bf33081d5cfcf6f9ed3d3d7f159c2e2fff579dc341a07cf33da18bd734c600b96a72bbc4749d5141c90ec8ac328ae52ddfe2e505bdb\n",
      "Address b'1424C2F4bC9JidNjjTUZCbUxv6Sa1Mt62x'\n"
     ]
    }
   ],
   "source": [
    "# Example from textbook\n",
    "example_account = Account(bytes.fromhex(\"1E99423A4ED27608A15A2616A2B0E9E52CED330AC530EDCC32C8FFC6A526AEDD\"))\n",
    "print(\"Public key:\", example_account.public_key.hex())\n",
    "print(\"Address\", example_account.address)"
   ]
  },
  {
   "cell_type": "code",
   "execution_count": 5,
   "id": "eab84a31",
   "metadata": {},
   "outputs": [],
   "source": [
    "# Generate 100 Bitcoin accounts for testing\n",
    "test_accounts = [Account() for i in range(100)]"
   ]
  },
  {
   "cell_type": "code",
   "execution_count": null,
   "id": "8574287d",
   "metadata": {},
   "outputs": [],
   "source": []
  },
  {
   "cell_type": "code",
   "execution_count": null,
   "id": "6ee4bb38",
   "metadata": {},
   "outputs": [],
   "source": []
  },
  {
   "cell_type": "code",
   "execution_count": null,
   "id": "e230ca62",
   "metadata": {},
   "outputs": [],
   "source": []
  },
  {
   "cell_type": "markdown",
   "id": "a743355a",
   "metadata": {},
   "source": [
    "## 3 Signature and Verification"
   ]
  },
  {
   "cell_type": "code",
   "execution_count": 6,
   "id": "3c61f99c",
   "metadata": {},
   "outputs": [
    {
     "name": "stdout",
     "output_type": "stream",
     "text": [
      "626c6f636b636861696e2d73732d32303231\n"
     ]
    }
   ],
   "source": [
    "test_message = b\"blockchain-ss-2021\"\n",
    "print(test_message.hex())"
   ]
  },
  {
   "cell_type": "code",
   "execution_count": 7,
   "id": "a615d1d7",
   "metadata": {},
   "outputs": [],
   "source": [
    "def sign(message, prikey):\n",
    "    '''Sign a byte message using the private key.'''\n",
    "    sk = SigningKey.from_string(prikey, curve=SECP256k1)\n",
    "    return sk.sign(message)\n",
    "    \n",
    "def verify(message, signature, pubkey):\n",
    "    '''\n",
    "    Verify signature using the public key.\n",
    "    Returns true if succeed. Otherwise raises errors.\n",
    "    '''\n",
    "    vk = VerifyingKey.from_string(pubkey, curve=SECP256k1)\n",
    "    return vk.verify(signature, message)"
   ]
  },
  {
   "cell_type": "code",
   "execution_count": 8,
   "id": "f3160978",
   "metadata": {},
   "outputs": [
    {
     "name": "stdout",
     "output_type": "stream",
     "text": [
      "All succeeded.\n"
     ]
    }
   ],
   "source": [
    "fail_flag = False\n",
    "\n",
    "for account in test_accounts:\n",
    "    # Sign the message\n",
    "    test_signature = sign(test_message, account.private_key)\n",
    "    \n",
    "    # Verify the signature\n",
    "    try:\n",
    "        verify(test_message, test_signature, account.public_key[1:])\n",
    "    except ecdsa.BadSignatureError as e:\n",
    "        print(e)\n",
    "        fail_flag = True\n",
    "        \n",
    "if not fail_flag:\n",
    "    print(\"All succeeded.\")"
   ]
  },
  {
   "cell_type": "code",
   "execution_count": 9,
   "id": "d958aac0",
   "metadata": {},
   "outputs": [
    {
     "name": "stdout",
     "output_type": "stream",
     "text": [
      "Correct signature: 6cfb91bdf7435222362e928e6a6126573ff45404bb7a09a2d4431a318aeaa590db1295ee148084a7154128a895bd74e8950d24013badc76f07deb2c5a73799e2\n",
      "Corrupt signature: 6cfb91bdf7435222362e928e6a6126573ff45404bb7a09a2d4431a318aeaa590db1295ee148084a7154128a895bd74e8950d24013badc76f07deb2c5a73799e3\n",
      "BadSignatureError: Signature verification failed\n"
     ]
    }
   ],
   "source": [
    "# A bad case\n",
    "test_signature = sign(test_message, test_accounts[0].private_key)\n",
    "temp = list(test_signature)\n",
    "temp[-1] += 1  # Modifying one byte in the signature causes corruption\n",
    "bad_signature = bytes(temp)\n",
    "\n",
    "print(\"Correct signature:\", test_signature.hex())\n",
    "print(\"Corrupt signature:\", bad_signature.hex())\n",
    "\n",
    "try:\n",
    "    verify(test_message, bad_signature, test_accounts[0].public_key)  # Will raise an error\n",
    "except ecdsa.BadSignatureError as e:\n",
    "    print(\"BadSignatureError:\", e)"
   ]
  },
  {
   "cell_type": "code",
   "execution_count": null,
   "id": "a311f303",
   "metadata": {},
   "outputs": [],
   "source": []
  },
  {
   "cell_type": "markdown",
   "id": "5f2b94d3",
   "metadata": {},
   "source": [
    "## 4 Bitcoin Transactions"
   ]
  },
  {
   "cell_type": "code",
   "execution_count": null,
   "id": "deee244a",
   "metadata": {},
   "outputs": [],
   "source": [
    "class Script"
   ]
  },
  {
   "cell_type": "code",
   "execution_count": 194,
   "id": "26a38098",
   "metadata": {},
   "outputs": [],
   "source": [
    "class Transaction:\n",
    "    def __init__(self):\n",
    "        self.version = 1  # 4 bytes\n",
    "        self.vin = list()\n",
    "        self.vout = list()\n",
    "        self.locktime = 0  # 4 bytes\n",
    "    \n",
    "    def encode(self):\n",
    "        '''Serialize transaction data into bytes.'''\n",
    "        tx_raw = bytes()\n",
    "        tx_raw += self.version.to_bytes(4, 'little')\n",
    "        tx_raw += varint.encode(len(self.vin))\n",
    "        for v in self.vin:\n",
    "            tx_raw += v.encode()\n",
    "        tx_raw += varint.encode(len(self.vout))\n",
    "        for v in self.vout:\n",
    "            tx_raw += v.encode()\n",
    "        tx_raw += self.locktime.to_bytes(4, 'little')\n",
    "        return tx_raw\n",
    "    \n",
    "    def add_input(self):\n",
    "        v = self.Input(b\"3\"*32)\n",
    "        self.vin.append(v)\n",
    "    \n",
    "    # Below are inner classes\n",
    "    \n",
    "    class Input:\n",
    "        def __init__(self, txid):\n",
    "            assert len(txid) == 32\n",
    "            self.txid = txid  # 32 bytes\n",
    "            self.vout = int()     # 4 bytes\n",
    "            self.script_sig = bytes()\n",
    "            self.sequence = 0xFFFFFFFF  # 4 bytes\n",
    "            \n",
    "        def encode(self):\n",
    "            in_raw = bytes()\n",
    "            in_raw += self.txid\n",
    "            in_raw += self.vout.to_bytes(4, 'little')\n",
    "            in_raw += varint.encode(len(self.script_sig))\n",
    "            in_raw += self.script_sig\n",
    "            in_raw += self.sequence.to_bytes(4, 'little')\n",
    "            return in_raw\n",
    "            \n",
    "    class Output:\n",
    "        def __init__(self):\n",
    "            self.value = int()  # 8 bytes, in satoshis\n",
    "            self.script_pubkey = bytes()\n",
    "            \n",
    "        def encode(self):\n",
    "            out_raw = bytes()\n",
    "            out_raw += self.value.to_bytes(4, 'little')\n",
    "            out_raw += varint.encode(len(self.script_pubkey))\n",
    "            out_raw += self.script_pubkey\n",
    "            return out_raw"
   ]
  },
  {
   "cell_type": "code",
   "execution_count": 196,
   "id": "f27f8969",
   "metadata": {},
   "outputs": [
    {
     "data": {
      "text/plain": [
       "'010000000133333333333333333333333333333333333333333333333333333333333333330000000000ffffffff0000000000'"
      ]
     },
     "execution_count": 196,
     "metadata": {},
     "output_type": "execute_result"
    }
   ],
   "source": [
    "tx = Transaction()\n",
    "tx.add_input()\n",
    "tx.encode().hex()"
   ]
  },
  {
   "cell_type": "code",
   "execution_count": null,
   "id": "0806a637",
   "metadata": {},
   "outputs": [],
   "source": []
  },
  {
   "cell_type": "code",
   "execution_count": null,
   "id": "e6cdf05f",
   "metadata": {},
   "outputs": [],
   "source": []
  },
  {
   "cell_type": "code",
   "execution_count": null,
   "id": "2148285c",
   "metadata": {},
   "outputs": [],
   "source": []
  },
  {
   "cell_type": "code",
   "execution_count": null,
   "id": "65f2fa49",
   "metadata": {},
   "outputs": [],
   "source": []
  },
  {
   "cell_type": "code",
   "execution_count": 83,
   "id": "4321cda1",
   "metadata": {},
   "outputs": [
    {
     "data": {
      "text/plain": [
       "True"
      ]
     },
     "execution_count": 83,
     "metadata": {},
     "output_type": "execute_result"
    }
   ],
   "source": [
    "import pybtc\n",
    "a = pybtc.Address(address_type=\"P2PKH\", compressed=False)\n",
    "Account(bytes.fromhex(a.private_key.hex)).address == a.address.encode()"
   ]
  },
  {
   "cell_type": "code",
   "execution_count": null,
   "id": "fe08da8a",
   "metadata": {},
   "outputs": [],
   "source": []
  },
  {
   "cell_type": "code",
   "execution_count": null,
   "id": "76f31b01",
   "metadata": {},
   "outputs": [],
   "source": []
  },
  {
   "cell_type": "code",
   "execution_count": 115,
   "id": "0765f1cc",
   "metadata": {},
   "outputs": [
    {
     "data": {
      "text/plain": [
       "['_Transaction__sign_p2sh',\n",
       " '_Transaction__sign_p2sh_custom',\n",
       " '_Transaction__sign_p2sh_multisig',\n",
       " '_Transaction__sign_p2sh_p2wpkh',\n",
       " '_Transaction__sign_p2sh_p2wsh',\n",
       " '_Transaction__sign_p2sh_p2wsh_multisig',\n",
       " '_Transaction__sign_p2wpkh',\n",
       " '_Transaction__sign_p2wsh',\n",
       " '_Transaction__sign_p2wsh_custom',\n",
       " '_Transaction__sign_p2wsh_multisig',\n",
       " '__class__',\n",
       " '__contains__',\n",
       " '__delattr__',\n",
       " '__delitem__',\n",
       " '__dict__',\n",
       " '__dir__',\n",
       " '__doc__',\n",
       " '__eq__',\n",
       " '__format__',\n",
       " '__ge__',\n",
       " '__get_bare_multisig_script_sig__',\n",
       " '__get_multisig_script_sig__',\n",
       " '__getattribute__',\n",
       " '__getitem__',\n",
       " '__gt__',\n",
       " '__hash__',\n",
       " '__init__',\n",
       " '__init_subclass__',\n",
       " '__iter__',\n",
       " '__le__',\n",
       " '__len__',\n",
       " '__lt__',\n",
       " '__module__',\n",
       " '__ne__',\n",
       " '__new__',\n",
       " '__reduce__',\n",
       " '__reduce_ex__',\n",
       " '__repr__',\n",
       " '__reversed__',\n",
       " '__setattr__',\n",
       " '__setitem__',\n",
       " '__sign_bare_multisig__',\n",
       " '__sign_p2pkh__',\n",
       " '__sign_pubkey__',\n",
       " '__sizeof__',\n",
       " '__str__',\n",
       " '__subclasshook__',\n",
       " '__weakref__',\n",
       " 'add_input',\n",
       " 'add_output',\n",
       " 'clear',\n",
       " 'commit',\n",
       " 'copy',\n",
       " 'decode',\n",
       " 'del_input',\n",
       " 'del_output',\n",
       " 'encode',\n",
       " 'fromkeys',\n",
       " 'get',\n",
       " 'get_stream',\n",
       " 'items',\n",
       " 'json',\n",
       " 'keys',\n",
       " 'pop',\n",
       " 'popitem',\n",
       " 'serialize',\n",
       " 'setdefault',\n",
       " 'sig_hash',\n",
       " 'sig_hash_segwit',\n",
       " 'sign_input',\n",
       " 'update',\n",
       " 'values']"
      ]
     },
     "execution_count": 115,
     "metadata": {},
     "output_type": "execute_result"
    }
   ],
   "source": [
    "dir(pybtc.Transaction)"
   ]
  },
  {
   "cell_type": "markdown",
   "id": "d59605f1",
   "metadata": {},
   "source": [
    "## 5 Bitcoin Blocks"
   ]
  },
  {
   "cell_type": "code",
   "execution_count": null,
   "id": "ebd16207",
   "metadata": {},
   "outputs": [],
   "source": []
  }
 ],
 "metadata": {
  "kernelspec": {
   "display_name": "Python 3 (ipykernel)",
   "language": "python",
   "name": "python3"
  },
  "language_info": {
   "codemirror_mode": {
    "name": "ipython",
    "version": 3
   },
   "file_extension": ".py",
   "mimetype": "text/x-python",
   "name": "python",
   "nbconvert_exporter": "python",
   "pygments_lexer": "ipython3",
   "version": "3.8.10"
  }
 },
 "nbformat": 4,
 "nbformat_minor": 5
}
