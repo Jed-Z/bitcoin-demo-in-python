{
 "cells": [
  {
   "cell_type": "markdown",
   "id": "d9831995",
   "metadata": {},
   "source": [
    "# A Simple Bitcoin Demo in Python"
   ]
  },
  {
   "cell_type": "markdown",
   "id": "a61cf267",
   "metadata": {},
   "source": [
    "Install requirements:\n",
    "```bash\n",
    "pip install ecdsa\n",
    "pip install base58\n",
    "```"
   ]
  },
  {
   "cell_type": "code",
   "execution_count": 1,
   "id": "9f2e6713",
   "metadata": {},
   "outputs": [],
   "source": [
    "import random\n",
    "import hashlib\n",
    "import ecdsa\n",
    "from ecdsa import SigningKey, VerifyingKey, SECP256k1\n",
    "import base58"
   ]
  },
  {
   "cell_type": "markdown",
   "id": "5388bed3",
   "metadata": {},
   "source": [
    "## 1. Merkle Tree"
   ]
  },
  {
   "cell_type": "code",
   "execution_count": 2,
   "id": "2efb4c3d",
   "metadata": {},
   "outputs": [],
   "source": [
    "def double_sha256(byts):\n",
    "    '''Purpose SHA256 twice to the bytes.'''\n",
    "    return hashlib.sha256(hashlib.sha256(byts).digest()).digest()"
   ]
  },
  {
   "cell_type": "code",
   "execution_count": 3,
   "id": "1a43725a",
   "metadata": {},
   "outputs": [],
   "source": [
    "class MerkleTree:\n",
    "    def __init__(self):\n",
    "        self.txid_list = list()\n",
    "        self.merkle_root = bytes()\n",
    "\n",
    "    def make_merkle_tree(self, txid_list, is_sorted=True):\n",
    "        '''Compute merkle root for the given list of TXIDs.'''\n",
    "        if len(txid_list) == 0:\n",
    "            raise ValueError(\"empty list\")\n",
    "\n",
    "        # Sort TXIDs (strings) in lexicographical order if not ordered\n",
    "        if is_sorted:\n",
    "            self.txid_list = txid_list\n",
    "        else:\n",
    "            self.txid_list = sorted(txid_list)\n",
    "\n",
    "        # Compute merkle root row by row\n",
    "        hashes = [s for s in self.txid_list]\n",
    "        while len(hashes) > 1:\n",
    "            if len(hashes) & 1:  # Number of hashes is odd\n",
    "                hashes.append(hashes[-1])\n",
    "            next_hashes = []\n",
    "            for i in range(0, len(hashes), 2):\n",
    "                next_hashes.append(hashes[i] + hashes[i+1])\n",
    "            hashes = [double_sha256(s) for s in next_hashes]  # Hashes are bytes, not texts\n",
    "\n",
    "        self.merkle_root = hashes[0]\n",
    "        return self.merkle_root  # 32 bytes"
   ]
  },
  {
   "cell_type": "markdown",
   "id": "1ed3474a",
   "metadata": {},
   "source": [
    "## 2 Bitcoin Accounts"
   ]
  },
  {
   "cell_type": "code",
   "execution_count": 4,
   "id": "ae6f4c8b",
   "metadata": {},
   "outputs": [],
   "source": [
    "class Account:\n",
    "    pubkey_type = b'\\x04'  # The identification byte 0x04 denotes uncompressed coordinates of public key\n",
    "    \n",
    "    def __init__(self, prikey=b''):\n",
    "        '''\n",
    "        Create a Bitcoin account using the given private key.\n",
    "        If private key not provided, generate a new one randomly.\n",
    "        '''\n",
    "        if prikey:\n",
    "            self.private_key = prikey\n",
    "            self.public_key = self.gen_pubkey_from_prikey(prikey)\n",
    "        else:\n",
    "            self.private_key, self.public_key = self.gen_keypair()\n",
    "        \n",
    "        self.public_key_hash = self.gen_public_key_hash(self.public_key)\n",
    "        self.address = self.gen_address_from_pkh(self.public_key_hash)\n",
    "\n",
    "    @staticmethod\n",
    "    def gen_keypair():\n",
    "        '''Generate a new pair of keys using SECP256k1 ECDSA.'''\n",
    "        sk = SigningKey.generate(curve=SECP256k1) # Private key\n",
    "        vk = sk.verifying_key                     # Public key (without prefix)\n",
    "        return sk.to_string(), Account.pubkey_type + vk.to_string()\n",
    "        \n",
    "    @staticmethod\n",
    "    def gen_pubkey_from_prikey(prikey):\n",
    "        '''Compute public key from the given private key.'''\n",
    "        sk = SigningKey.from_string(prikey, curve=SECP256k1)\n",
    "        vk = sk.verifying_key\n",
    "        return Account.pubkey_type + vk.to_string()\n",
    "\n",
    "    @staticmethod\n",
    "    def gen_public_key_hash(pubkey):\n",
    "        '''Compute public key hash with \"double hash\".'''\n",
    "        # Note that pubkey is already prefixed\n",
    "        temp = hashlib.sha256(pubkey).digest()\n",
    "        h = hashlib.new('ripemd160')\n",
    "        h.update(temp)\n",
    "        return h.digest()\n",
    "\n",
    "    @staticmethod\n",
    "    def gen_address_from_pkh(pubkeyhash):\n",
    "        '''Compute base58check encoded address.'''\n",
    "        # Base58check encode\n",
    "        version_prefix = b'\\x00'  # Version prefix of Bitcoin addresses is 0x00\n",
    "        return base58.b58encode_check(version_prefix + pubkeyhash)"
   ]
  },
  {
   "cell_type": "code",
   "execution_count": 5,
   "id": "6fbff4f4",
   "metadata": {},
   "outputs": [
    {
     "name": "stdout",
     "output_type": "stream",
     "text": [
      "Public key: 04f028892bad7ed57d2fb57bf33081d5cfcf6f9ed3d3d7f159c2e2fff579dc341a07cf33da18bd734c600b96a72bbc4749d5141c90ec8ac328ae52ddfe2e505bdb\n",
      "Address b'1424C2F4bC9JidNjjTUZCbUxv6Sa1Mt62x'\n"
     ]
    }
   ],
   "source": [
    "# Example from textbook\n",
    "example_account = Account(bytes.fromhex(\"1E99423A4ED27608A15A2616A2B0E9E52CED330AC530EDCC32C8FFC6A526AEDD\"))\n",
    "print(\"Public key:\", example_account.public_key.hex())\n",
    "print(\"Address\", example_account.address)"
   ]
  },
  {
   "cell_type": "code",
   "execution_count": 6,
   "id": "eab84a31",
   "metadata": {},
   "outputs": [],
   "source": [
    "# Generate 100 Bitcoin accounts for testing\n",
    "test_accounts = [Account() for i in range(100)]"
   ]
  },
  {
   "cell_type": "markdown",
   "id": "a743355a",
   "metadata": {},
   "source": [
    "## 3. Signature and Verification"
   ]
  },
  {
   "cell_type": "code",
   "execution_count": 7,
   "id": "3c61f99c",
   "metadata": {},
   "outputs": [
    {
     "name": "stdout",
     "output_type": "stream",
     "text": [
      "626c6f636b636861696e2d73732d32303231\n"
     ]
    }
   ],
   "source": [
    "test_message = b\"blockchain-ss-2021\"\n",
    "print(test_message.hex())"
   ]
  },
  {
   "cell_type": "code",
   "execution_count": 8,
   "id": "a615d1d7",
   "metadata": {},
   "outputs": [],
   "source": [
    "def sign(message, prikey):\n",
    "    '''\n",
    "    Sign a byte message using the private key.\n",
    "    The signature is encoded in DER format.\n",
    "    '''\n",
    "    sk = SigningKey.from_string(prikey, curve=SECP256k1)\n",
    "    return sk.sign(message, sigencode=ecdsa.util.sigencode_der)  # DER format\n",
    "    \n",
    "def verify(signature, message, pubkey):\n",
    "    '''\n",
    "    Verify signature using the public key.\n",
    "    Returns true if succeed. Otherwise raises errors.\n",
    "    '''\n",
    "    vk = VerifyingKey.from_string(pubkey, curve=SECP256k1)\n",
    "    return vk.verify(signature, message, sigdecode=ecdsa.util.sigdecode_der)"
   ]
  },
  {
   "cell_type": "code",
   "execution_count": 9,
   "id": "f3160978",
   "metadata": {},
   "outputs": [
    {
     "name": "stdout",
     "output_type": "stream",
     "text": [
      "All succeeded.\n"
     ]
    }
   ],
   "source": [
    "fail_flag = False\n",
    "\n",
    "for account in test_accounts:\n",
    "    # Sign the message\n",
    "    test_signature = sign(test_message, account.private_key)\n",
    "    \n",
    "    # Verify the signature\n",
    "    try:\n",
    "        verify(test_signature, test_message, account.public_key[1:])\n",
    "    except ecdsa.BadSignatureError as e:\n",
    "        print(e)\n",
    "        fail_flag = True\n",
    "        \n",
    "if not fail_flag:\n",
    "    print(\"All succeeded.\")"
   ]
  },
  {
   "cell_type": "code",
   "execution_count": 10,
   "id": "d958aac0",
   "metadata": {},
   "outputs": [
    {
     "name": "stdout",
     "output_type": "stream",
     "text": [
      "Correct signature: 304402206a4061adb20d8d1b02f1e8d5fd3c1103e9db6110f4f7e7f5eb5ce0ad468a98a102201f8e87da91c35fac457a70df11f47c255795b1f98f7fdd1a13df531f9a7e8dfc\n",
      "Corrupt signature: 304402206a4061adb20d8d1b02f1e8d5fd3c1103e9db6110f4f7e7f5eb5ce0ad468a98a102201f8e87da91c35fac457a70df11f47c255795b1f98f7fdd1a13df531f9a7e8dfd\n",
      "BadSignatureError: Signature verification failed\n"
     ]
    }
   ],
   "source": [
    "# A bad case\n",
    "test_signature = sign(test_message, test_accounts[0].private_key)\n",
    "temp = list(test_signature)\n",
    "temp[-1] = (temp[-1] + 1) % 256  # Modifying one byte in the signature causes corruption\n",
    "bad_signature = bytes(temp)\n",
    "\n",
    "print(\"Correct signature:\", test_signature.hex())\n",
    "print(\"Corrupt signature:\", bad_signature.hex())\n",
    "\n",
    "try:\n",
    "    verify(bad_signature, test_message, test_accounts[0].public_key)  # Will raise an error\n",
    "except ecdsa.BadSignatureError as e:\n",
    "    print(\"BadSignatureError:\", e)"
   ]
  },
  {
   "cell_type": "markdown",
   "id": "5f2b94d3",
   "metadata": {},
   "source": [
    "## 4. Bitcoin Transactions"
   ]
  },
  {
   "cell_type": "code",
   "execution_count": 11,
   "id": "f6831b17",
   "metadata": {},
   "outputs": [],
   "source": [
    "def int_to_varint(value):\n",
    "    if value <= 0xfc:\n",
    "        return value.to_bytes(1, 'little')\n",
    "    elif value <= 0xffff:\n",
    "        return b'\\xfd' + value.to_bytes(2, 'little')\n",
    "    elif value <= 0xffffffff:\n",
    "        return b'\\xfe' + value.to_bytes(4, 'little')\n",
    "    else:\n",
    "        return b'\\xff' + value.to_bytes(8, 'little')"
   ]
  },
  {
   "cell_type": "code",
   "execution_count": 12,
   "id": "deee244a",
   "metadata": {},
   "outputs": [],
   "source": [
    "class ScriptPubKey:\n",
    "    def __init__(self, pubkeyhash):\n",
    "        self.public_key_hash = pubkeyhash\n",
    "        self.before = b'\\x76\\xa9\\x14' # OP_DUP OP_HASH160\n",
    "        self.after = b'\\x88\\xac'      # OP_EQUALVERIFY OP_CHECKSIG\n",
    "    \n",
    "    def encode(self):\n",
    "        return self.before + self.public_key_hash + self.after\n",
    "    \n",
    "class ScriptSig:\n",
    "    def __init__(self, sig, pubkey):\n",
    "        self.signature = sig\n",
    "        self.public_key = pubkey\n",
    "        self.sighash = b'\\x01'  # SIGHASH_ALL\n",
    "    \n",
    "    def encode(self):\n",
    "        raw = bytes()\n",
    "        raw += int_to_varint(len(self.signature) + 1)\n",
    "        raw += self.signature\n",
    "        raw += self.sighash\n",
    "        raw += int_to_varint(len(self.public_key))\n",
    "        raw += self.public_key\n",
    "        return raw"
   ]
  },
  {
   "cell_type": "code",
   "execution_count": 13,
   "id": "26a38098",
   "metadata": {},
   "outputs": [],
   "source": [
    "class Transaction:\n",
    "    def __init__(self):\n",
    "        self.version = 1\n",
    "        self.vin = list()  # List of class Transaction.Input\n",
    "        self.vout = list() # List of class Transaction.Output\n",
    "        self.locktime = 0\n",
    "    \n",
    "    def encode(self):\n",
    "        '''Serialize transaction data into bytes.'''\n",
    "        tx_raw = bytes()\n",
    "        tx_raw += self.version.to_bytes(4, 'little')  # 4 bytes\n",
    "        tx_raw += int_to_varint(len(self.vin))        # VarInt\n",
    "        for v in self.vin:\n",
    "            tx_raw += v.encode()\n",
    "        tx_raw += int_to_varint(len(self.vout))       # VarInt\n",
    "        for v in self.vout:\n",
    "            tx_raw += v.encode()\n",
    "        tx_raw += self.locktime.to_bytes(4, 'little') # 4 bytes\n",
    "        return tx_raw\n",
    "\n",
    "    def add_input(self, txid, vout, sig, pubkey):\n",
    "        v = self.Input(txid, vout, sig, pubkey)\n",
    "        self.vin.append(v)\n",
    "        \n",
    "    def add_output(self, value, pubkeyhash):\n",
    "        v = self.Output(value, pubkeyhash)\n",
    "        self.vout.append(v)\n",
    "        \n",
    "    def get_txid(self):\n",
    "        return double_sha256(self.encode())\n",
    "    \n",
    "    # --- Below are inner classes ---\n",
    "            \n",
    "    class Output:\n",
    "        def __init__(self, value, pubkeyhash):\n",
    "            self.value = value  # 8 bytes, in satoshis\n",
    "            self.script_pubkey = ScriptPubKey(pubkeyhash)\n",
    "            \n",
    "        def encode(self):\n",
    "            locking_script = self.script_pubkey.encode()\n",
    "            \n",
    "            out_raw = bytes()\n",
    "            out_raw += self.value.to_bytes(8, 'little')\n",
    "            out_raw += int_to_varint(len(locking_script))  # Locking script size in bytes\n",
    "            out_raw += locking_script\n",
    "            return out_raw\n",
    "\n",
    "    class Input:\n",
    "        def __init__(self, txid, vout, sig, pubkey):\n",
    "            assert len(txid) == 32\n",
    "            self.txid = txid\n",
    "            self.vout = vout  # index of output of TXID\n",
    "            self.script_sig = ScriptSig(sig, pubkey)\n",
    "            self.sequence = 0xFFFFFFFF\n",
    "            \n",
    "        def encode(self):\n",
    "            unlocking_script = self.script_sig.encode()\n",
    "            \n",
    "            in_raw = bytes()\n",
    "            in_raw += self.txid[::-1]                      # 32 bytes, reversed byte order\n",
    "            in_raw += self.vout.to_bytes(4, 'little')      # 4 bytes\n",
    "            in_raw += int_to_varint(len(unlocking_script)) # VarInt, unlocking script size\n",
    "            in_raw += unlocking_script\n",
    "            in_raw += self.sequence.to_bytes(4, 'little')  # 4 bytes\n",
    "            return in_raw"
   ]
  },
  {
   "cell_type": "code",
   "execution_count": 14,
   "id": "f27f8969",
   "metadata": {},
   "outputs": [
    {
     "data": {
      "text/plain": [
       "'0100000001186f9f998a5aa6f048e51dd8419a14d8a0f1a8a2836dd734d2804fe65fa35779000000008b483045022100884d142d86652a3f47ba4746ec719bbfbd040a570b1deccbb6498c75c4ae24cb02204b9f039ff08df09cbe9f6addac960298cad530a863ea8f53982c09db8f6e381301410484ecc0d46f1918b30928fa0e4ed99f16a0fb4fde0735e7ade8416ab9fe423cc5412336376789d172787ec3457eee41c04f4938de5cc17b4a10fa336a8d752adfffffffff0260e31600000000001976a914ab68025513c3dbd2f7b92a94e0581f5d50f654e788acd0ef8000000000001976a9147f9b1a7fb68d60c536c2fd8aeaa53a8f3cc025a888ac00000000'"
      ]
     },
     "execution_count": 14,
     "metadata": {},
     "output_type": "execute_result"
    }
   ],
   "source": [
    "# Example from textbook\n",
    "tx = Transaction()\n",
    "txid = bytes.fromhex(\"7957a35fe64f80d234d76d83a2a8f1a0d8149a41d81de548f0a65a8a999f6f18\")\n",
    "sig = bytes.fromhex(\"3045022100884d142d86652a3f47ba4746ec719bbfbd040a570b1deccbb6498c75c4ae24cb02204b9f039ff08df09cbe9f6addac960298cad530a863ea8f53982c09db8f6e3813\")\n",
    "pubkey = bytes.fromhex(\"0484ecc0d46f1918b30928fa0e4ed99f16a0fb4fde0735e7ade8416ab9fe423cc5412336376789d172787ec3457eee41c04f4938de5cc17b4a10fa336a8d752adf\")\n",
    "tx.add_input(txid, 0, sig, pubkey)\n",
    "tx.add_output(1500000, bytes.fromhex(\"ab68025513c3dbd2f7b92a94e0581f5d50f654e7\"))\n",
    "tx.add_output(8450000, bytes.fromhex(\"7f9b1a7fb68d60c536c2fd8aeaa53a8f3cc025a8\"))\n",
    "tx.encode().hex()"
   ]
  },
  {
   "cell_type": "code",
   "execution_count": 15,
   "id": "5d758825",
   "metadata": {},
   "outputs": [],
   "source": [
    "# Generate 1000 transactions for testing\n",
    "test_transactions = []\n",
    "\n",
    "for i in range(1000):\n",
    "    tx = Transaction()\n",
    "    tx.version = 1\n",
    "    tx.locktime = 1\n",
    "    \n",
    "    num_in = random.randint(1, 3)\n",
    "    for i in range(num_in):\n",
    "        account = random.choice(test_accounts)\n",
    "        txid = random.randint(0, 2**256).to_bytes(32, 'little')\n",
    "        vout = random.randint(0, 2)\n",
    "        rand_msg = b'12312313'\n",
    "        sig = sign(rand_msg, account.private_key)\n",
    "        pubkey = account.public_key\n",
    "        \n",
    "        tx.add_input(txid, vout, sig, pubkey)\n",
    "    \n",
    "    num_out = random.randint(1, 3)\n",
    "    for i in range(num_out):\n",
    "        account = random.choice(test_accounts)\n",
    "        value = random.randint(100000, 10000000)\n",
    "        pubkeyhash = account.public_key_hash\n",
    "        \n",
    "        tx.add_output(value, pubkeyhash)\n",
    "    \n",
    "    test_transactions.append(tx)"
   ]
  },
  {
   "cell_type": "markdown",
   "id": "d59605f1",
   "metadata": {},
   "source": [
    "## 5. Bitcoin Blocks"
   ]
  },
  {
   "cell_type": "code",
   "execution_count": 16,
   "id": "785986ef",
   "metadata": {},
   "outputs": [],
   "source": [
    "class Block:\n",
    "    def __init__(self, prev_hash=int(0).to_bytes(32, 'little')):\n",
    "        assert len(prev_hash) == 32\n",
    "        self.block_header = self.Header(prev_hash)\n",
    "        self.transactions = list()  # List of class Transaction\n",
    "        \n",
    "    def encode(self):\n",
    "        raw = bytes()\n",
    "        raw += self.block_header.encode()\n",
    "        raw += int_to_varint(len(self.transactions))\n",
    "        for tx in self.transactions:\n",
    "            raw += tx.encode()\n",
    "            \n",
    "        block_size = len(raw)\n",
    "        raw = int_to_varint(block_size) + raw\n",
    "        return raw\n",
    "        \n",
    "    def add_transaction(self, tx):\n",
    "        self.transactions.append(tx)\n",
    "        \n",
    "    def gen_merkle_root(self):\n",
    "        txid_list = []\n",
    "        for tx in self.transactions:\n",
    "            txid_list.append(tx.get_txid())\n",
    "            \n",
    "        mt = MerkleTree()\n",
    "        self.block_header.merkle_root = mt.make_merkle_tree(txid_list)\n",
    "        \n",
    "    def get_hash(self):\n",
    "        return double_sha256(self.encode())\n",
    "\n",
    "    # --- Below are inner classes ---\n",
    "    \n",
    "    class Header:\n",
    "        def __init__(self, prev):\n",
    "            self.version = int()\n",
    "            self.previous_block_hash = prev\n",
    "            self.merkle_root = bytes()\n",
    "            self.timestamp = int()\n",
    "            self.difficulty_target = int()\n",
    "            self.nonce = int()\n",
    "            \n",
    "        def encode(self):\n",
    "            raw = bytes()\n",
    "            raw += self.version.to_bytes(4, 'little')\n",
    "            raw += self.previous_block_hash\n",
    "            raw += self.merkle_root\n",
    "            raw += self.timestamp.to_bytes(4, 'little')\n",
    "            raw += self.difficulty_target.to_bytes(4, 'little')\n",
    "            raw += self.nonce.to_bytes(4, 'little')\n",
    "            return raw"
   ]
  },
  {
   "cell_type": "code",
   "execution_count": 17,
   "id": "10400fb1",
   "metadata": {},
   "outputs": [],
   "source": [
    "# Generate 10 blocks for testing\n",
    "test_blocks = []\n",
    "\n",
    "for i in range(10):\n",
    "    if i == 0:\n",
    "        block = Block()  # prev_hash of the first block is all-zero\n",
    "    else:\n",
    "        block = Block(test_blocks[i-1].get_hash())  # Construct a chain of block hashes\n",
    "    txs = test_transactions[i*10:(i+1)*10]\n",
    "    for tx in txs:\n",
    "        block.add_transaction(tx)\n",
    "    block.gen_merkle_root()\n",
    "    test_blocks.append(block)"
   ]
  },
  {
   "cell_type": "code",
   "execution_count": 18,
   "id": "fc2d0ae9",
   "metadata": {},
   "outputs": [
    {
     "data": {
      "text/plain": [
       "'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'"
      ]
     },
     "execution_count": 18,
     "metadata": {},
     "output_type": "execute_result"
    }
   ],
   "source": [
    "test_blocks[0].encode().hex()"
   ]
  },
  {
   "cell_type": "code",
   "execution_count": null,
   "id": "c6b6314c",
   "metadata": {},
   "outputs": [],
   "source": []
  }
 ],
 "metadata": {
  "kernelspec": {
   "display_name": "Python 3 (ipykernel)",
   "language": "python",
   "name": "python3"
  },
  "language_info": {
   "codemirror_mode": {
    "name": "ipython",
    "version": 3
   },
   "file_extension": ".py",
   "mimetype": "text/x-python",
   "name": "python",
   "nbconvert_exporter": "python",
   "pygments_lexer": "ipython3",
   "version": "3.8.10"
  }
 },
 "nbformat": 4,
 "nbformat_minor": 5
}
