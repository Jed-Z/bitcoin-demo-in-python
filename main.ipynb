{
 "cells": [
  {
   "cell_type": "markdown",
   "id": "d9831995",
   "metadata": {},
   "source": [
    "# A Simple Bitcoin Demo in Python"
   ]
  },
  {
   "cell_type": "markdown",
   "id": "a61cf267",
   "metadata": {},
   "source": [
    "Install requirements:\n",
    "```bash\n",
    "pip install ecdsa\n",
    "pip install base58\n",
    "```"
   ]
  },
  {
   "cell_type": "markdown",
   "id": "5388bed3",
   "metadata": {},
   "source": [
    "## 1. Merkle Tree"
   ]
  },
  {
   "cell_type": "code",
   "execution_count": 1,
   "id": "2efb4c3d",
   "metadata": {},
   "outputs": [],
   "source": [
    "import hashlib\n",
    "\n",
    "def double_sha256(byts):\n",
    "    '''Purpose SHA256 twice to the bytes.'''\n",
    "    return hashlib.sha256(hashlib.sha256(byts).digest()).digest()"
   ]
  },
  {
   "cell_type": "code",
   "execution_count": 2,
   "id": "1a43725a",
   "metadata": {},
   "outputs": [],
   "source": [
    "class MerkleTree:\n",
    "    def __init__(self):\n",
    "        self.txid_list = list()\n",
    "        self.merkle_root = bytes()\n",
    "\n",
    "    def make_merkle_tree(self, txid_list, is_sorted=True):\n",
    "        '''Compute merkle root for the given list of TXIDs.'''\n",
    "        if len(txid_list) == 0:\n",
    "            raise ValueError(\"empty list\")\n",
    "\n",
    "        # Sort TXIDs (strings) in lexicographical order if not ordered\n",
    "        if is_sorted:\n",
    "            self.txid_list = txid_list\n",
    "        else:\n",
    "            self.txid_list = sorted(txid_list)\n",
    "\n",
    "        # Compute merkle root row by row\n",
    "        hashes = [s.encode() for s in self.txid_list]\n",
    "        while len(hashes) > 1:\n",
    "            if len(hashes) & 1:  # Number of hashes is odd\n",
    "                hashes.append(hashes[-1])\n",
    "            next_hashes = []\n",
    "            for i in range(0, len(hashes), 2):\n",
    "                next_hashes.append(hashes[i] + hashes[i+1])\n",
    "            hashes = [double_sha256(s) for s in next_hashes]  # Hashes are bytes, not texts\n",
    "\n",
    "        self.merkle_root = hashes[0]\n",
    "        return self.merkle_root  # 32 bytes"
   ]
  },
  {
   "cell_type": "markdown",
   "id": "1ed3474a",
   "metadata": {},
   "source": [
    "## 2 Bitcoin Accounts"
   ]
  },
  {
   "cell_type": "code",
   "execution_count": 3,
   "id": "ae6f4c8b",
   "metadata": {},
   "outputs": [],
   "source": [
    "import ecdsa\n",
    "from ecdsa import SigningKey, VerifyingKey, SECP256k1\n",
    "import base58\n",
    "\n",
    "class Account:\n",
    "    pubkey_type = b'\\x04'  # The identification byte 0x04 denotes uncompressed coordinates of public key\n",
    "    \n",
    "    def __init__(self, prikey=b''):\n",
    "        '''\n",
    "        Create a Bitcoin account using the given private key.\n",
    "        If private key not provided, generate a new one randomly.\n",
    "        '''\n",
    "        if prikey:\n",
    "            self.private_key = prikey\n",
    "            self.public_key = self.gen_pubkey_from_prikey(prikey)\n",
    "        else:\n",
    "            self.private_key, self.public_key = self.gen_keypair()\n",
    "        \n",
    "        self.public_key_hash = self.gen_public_key_hash(self.public_key)\n",
    "        self.address = self.gen_address_from_pkh(self.public_key_hash)\n",
    "\n",
    "    @staticmethod\n",
    "    def gen_keypair():\n",
    "        '''Generate a new pair of keys using SECP256k1 ECDSA.'''\n",
    "        sk = SigningKey.generate(curve=SECP256k1) # Private key\n",
    "        vk = sk.verifying_key                     # Public key (without prefix)\n",
    "        return sk.to_string(), Account.pubkey_type + vk.to_string()\n",
    "        \n",
    "    @staticmethod\n",
    "    def gen_pubkey_from_prikey(prikey):\n",
    "        '''Compute public key from the given private key.'''\n",
    "        sk = SigningKey.from_string(prikey, curve=SECP256k1)\n",
    "        vk = sk.verifying_key\n",
    "        return Account.pubkey_type + vk.to_string()\n",
    "\n",
    "    @staticmethod\n",
    "    def gen_public_key_hash(pubkey):\n",
    "        '''Compute public key hash with \"double hash\".'''\n",
    "        # Note that pubkey is already prefixed\n",
    "        temp = hashlib.sha256(pubkey).digest()\n",
    "        h = hashlib.new('ripemd160')\n",
    "        h.update(temp)\n",
    "        return h.digest()\n",
    "\n",
    "    @staticmethod\n",
    "    def gen_address_from_pkh(pubkeyhash):\n",
    "        '''Compute base58check encoded address.'''\n",
    "        # Base58check encode\n",
    "        version_prefix = b'\\x00'  # Version prefix of Bitcoin addresses is 0x00\n",
    "        return base58.b58encode_check(version_prefix + pubkeyhash)"
   ]
  },
  {
   "cell_type": "code",
   "execution_count": 18,
   "id": "6fbff4f4",
   "metadata": {},
   "outputs": [
    {
     "name": "stdout",
     "output_type": "stream",
     "text": [
      "Public key: 04f028892bad7ed57d2fb57bf33081d5cfcf6f9ed3d3d7f159c2e2fff579dc341a07cf33da18bd734c600b96a72bbc4749d5141c90ec8ac328ae52ddfe2e505bdb\n",
      "Address b'1424C2F4bC9JidNjjTUZCbUxv6Sa1Mt62x'\n"
     ]
    }
   ],
   "source": [
    "# Example from textbook\n",
    "example_account = Account(bytes.fromhex(\"1E99423A4ED27608A15A2616A2B0E9E52CED330AC530EDCC32C8FFC6A526AEDD\"))\n",
    "print(\"Public key:\", example_account.public_key.hex())\n",
    "print(\"Address\", example_account.address)"
   ]
  },
  {
   "cell_type": "code",
   "execution_count": 5,
   "id": "eab84a31",
   "metadata": {},
   "outputs": [],
   "source": [
    "# Generate 100 Bitcoin accounts for testing\n",
    "test_accounts = [Account() for i in range(100)]"
   ]
  },
  {
   "cell_type": "markdown",
   "id": "a743355a",
   "metadata": {},
   "source": [
    "## 3. Signature and Verification"
   ]
  },
  {
   "cell_type": "code",
   "execution_count": 6,
   "id": "3c61f99c",
   "metadata": {},
   "outputs": [
    {
     "name": "stdout",
     "output_type": "stream",
     "text": [
      "626c6f636b636861696e2d73732d32303231\n"
     ]
    }
   ],
   "source": [
    "test_message = b\"blockchain-ss-2021\"\n",
    "print(test_message.hex())"
   ]
  },
  {
   "cell_type": "code",
   "execution_count": 7,
   "id": "a615d1d7",
   "metadata": {},
   "outputs": [],
   "source": [
    "def sign(message, prikey):\n",
    "    '''\n",
    "    Sign a byte message using the private key.\n",
    "    The signature is encoded in DER format.\n",
    "    '''\n",
    "    sk = SigningKey.from_string(prikey, curve=SECP256k1)\n",
    "    return sk.sign(message, sigencode=ecdsa.util.sigencode_der)  # DER format\n",
    "    \n",
    "def verify(signature, message, pubkey):\n",
    "    '''\n",
    "    Verify signature using the public key.\n",
    "    Returns true if succeed. Otherwise raises errors.\n",
    "    '''\n",
    "    vk = VerifyingKey.from_string(pubkey, curve=SECP256k1)\n",
    "    return vk.verify(signature, message, sigdecode=ecdsa.util.sigdecode_der)"
   ]
  },
  {
   "cell_type": "code",
   "execution_count": 8,
   "id": "f3160978",
   "metadata": {},
   "outputs": [
    {
     "name": "stdout",
     "output_type": "stream",
     "text": [
      "All succeeded.\n"
     ]
    }
   ],
   "source": [
    "fail_flag = False\n",
    "\n",
    "for account in test_accounts:\n",
    "    # Sign the message\n",
    "    test_signature = sign(test_message, account.private_key)\n",
    "    \n",
    "    # Verify the signature\n",
    "    try:\n",
    "        verify(test_signature, test_message, account.public_key[1:])\n",
    "    except ecdsa.BadSignatureError as e:\n",
    "        print(e)\n",
    "        fail_flag = True\n",
    "        \n",
    "if not fail_flag:\n",
    "    print(\"All succeeded.\")"
   ]
  },
  {
   "cell_type": "code",
   "execution_count": 9,
   "id": "d958aac0",
   "metadata": {},
   "outputs": [
    {
     "name": "stdout",
     "output_type": "stream",
     "text": [
      "Correct signature: 304402204754e1794a6afaefe9fd4caf7f1c6cd9c6d1f590acec1a2d7c9ca9a9cdfb143d02205b0755d83a70fba2b3e27c9bca522444c2b3c0509a01997562fb1d52e0295bf2\n",
      "Corrupt signature: 304402204754e1794a6afaefe9fd4caf7f1c6cd9c6d1f590acec1a2d7c9ca9a9cdfb143d02205b0755d83a70fba2b3e27c9bca522444c2b3c0509a01997562fb1d52e0295bf3\n",
      "BadSignatureError: Signature verification failed\n"
     ]
    }
   ],
   "source": [
    "# A bad case\n",
    "test_signature = sign(test_message, test_accounts[0].private_key)\n",
    "temp = list(test_signature)\n",
    "temp[-1] = (temp[-1] + 1) % 256  # Modifying one byte in the signature causes corruption\n",
    "bad_signature = bytes(temp)\n",
    "\n",
    "print(\"Correct signature:\", test_signature.hex())\n",
    "print(\"Corrupt signature:\", bad_signature.hex())\n",
    "\n",
    "try:\n",
    "    verify(bad_signature, test_message, test_accounts[0].public_key)  # Will raise an error\n",
    "except ecdsa.BadSignatureError as e:\n",
    "    print(\"BadSignatureError:\", e)"
   ]
  },
  {
   "cell_type": "code",
   "execution_count": 10,
   "id": "4321cda1",
   "metadata": {},
   "outputs": [],
   "source": [
    "#  Correctness verification using pybtc library\n",
    "# import pybtc\n",
    "# a = pybtc.Address(address_type=\"P2PKH\", compressed=False)\n",
    "# Account(bytes.fromhex(a.private_key.hex)).address == a.address.encode()"
   ]
  },
  {
   "cell_type": "markdown",
   "id": "5f2b94d3",
   "metadata": {},
   "source": [
    "## 4. Bitcoin Transactions"
   ]
  },
  {
   "cell_type": "code",
   "execution_count": 11,
   "id": "f6831b17",
   "metadata": {},
   "outputs": [],
   "source": [
    "def int_to_varint(value):\n",
    "    if value <= 0xfc:\n",
    "        return value.to_bytes(1, 'little')\n",
    "    elif value <= 0xffff:\n",
    "        return b'\\xfd' + value.to_bytes(2, 'little')\n",
    "    elif value <= 0xffffffff:\n",
    "        return b'\\xfe' + value.to_bytes(4, 'little')\n",
    "    else:\n",
    "        return b'\\xff' + value.to_bytes(8, 'little')"
   ]
  },
  {
   "cell_type": "code",
   "execution_count": 12,
   "id": "deee244a",
   "metadata": {},
   "outputs": [],
   "source": [
    "class ScriptPubKey:\n",
    "    def __init__(self, pubkeyhash):\n",
    "        self.public_key_hash = pubkeyhash\n",
    "        self.before = b'\\x76\\xa9\\x14' # OP_DUP OP_HASH160\n",
    "        self.after = b'\\x88\\xac'      # OP_EQUALVERIFY OP_CHECKSIG\n",
    "    \n",
    "    def encode(self):\n",
    "        return self.before + self.public_key_hash + self.after\n",
    "    \n",
    "class ScriptSig:\n",
    "    def __init__(self, sig, pubkey):\n",
    "        self.signature = sig\n",
    "        self.public_key = pubkey\n",
    "        self.sighash = b'\\x01'  # SIGHASH_ALL\n",
    "    \n",
    "    def encode(self):\n",
    "        raw = bytes()\n",
    "        raw += int_to_varint(len(self.signature) + 1)\n",
    "        raw += self.signature\n",
    "        raw += self.sighash\n",
    "        raw += int_to_varint(len(self.public_key))\n",
    "        raw += self.public_key\n",
    "        return raw"
   ]
  },
  {
   "cell_type": "code",
   "execution_count": 13,
   "id": "26a38098",
   "metadata": {},
   "outputs": [],
   "source": [
    "class Transaction:\n",
    "    def __init__(self):\n",
    "        self.version = 1\n",
    "        self.vin = list()  # List of class Transaction.Input\n",
    "        self.vout = list() # List of class Transaction.Output\n",
    "        self.locktime = 0\n",
    "    \n",
    "    def encode(self):\n",
    "        '''Serialize transaction data into bytes.'''\n",
    "        tx_raw = bytes()\n",
    "        tx_raw += self.version.to_bytes(4, 'little')  # 4 bytes\n",
    "        tx_raw += int_to_varint(len(self.vin))        # VarInt\n",
    "        for v in self.vin:\n",
    "            tx_raw += v.encode()\n",
    "        tx_raw += int_to_varint(len(self.vout))       # VarInt\n",
    "        for v in self.vout:\n",
    "            tx_raw += v.encode()\n",
    "        tx_raw += self.locktime.to_bytes(4, 'little') # 4 bytes\n",
    "        return tx_raw\n",
    "\n",
    "    def add_input(self, txid, vout, sig, pubkey):\n",
    "        v = self.Input(txid, vout, sig, pubkey)\n",
    "        self.vin.append(v)\n",
    "        \n",
    "    def add_output(self, value, pubkeyhash):\n",
    "        v = self.Output(value, pubkeyhash)\n",
    "        self.vout.append(v)\n",
    "    \n",
    "    # --- Below are inner classes ---\n",
    "            \n",
    "    class Output:\n",
    "        def __init__(self, value, pubkeyhash):\n",
    "            self.value = value  # 8 bytes, in satoshis\n",
    "            self.script_pubkey = ScriptPubKey(pubkeyhash)\n",
    "            \n",
    "        def encode(self):\n",
    "            locking_script = self.script_pubkey.encode()\n",
    "            \n",
    "            out_raw = bytes()\n",
    "            out_raw += self.value.to_bytes(8, 'little')\n",
    "            out_raw += int_to_varint(len(locking_script))  # Locking script size in bytes\n",
    "            out_raw += locking_script\n",
    "            return out_raw\n",
    "\n",
    "    class Input:\n",
    "        def __init__(self, txid, vout, sig, pubkey):\n",
    "            assert len(txid) == 32\n",
    "            self.txid = txid\n",
    "            self.vout = vout  # index of output of TXID\n",
    "            self.script_sig = ScriptSig(sig, pubkey)\n",
    "            self.sequence = 0xFFFFFFFF\n",
    "            \n",
    "        def encode(self):\n",
    "            unlocking_script = self.script_sig.encode()\n",
    "            \n",
    "            in_raw = bytes()\n",
    "            in_raw += self.txid[::-1]                      # 32 bytes, reversed byte order\n",
    "            in_raw += self.vout.to_bytes(4, 'little')      # 4 bytes\n",
    "            in_raw += int_to_varint(len(unlocking_script)) # VarInt, unlocking script size\n",
    "            in_raw += unlocking_script\n",
    "            in_raw += self.sequence.to_bytes(4, 'little')  # 4 bytes\n",
    "            return in_raw"
   ]
  },
  {
   "cell_type": "code",
   "execution_count": 14,
   "id": "f27f8969",
   "metadata": {},
   "outputs": [
    {
     "data": {
      "text/plain": [
       "'0100000001186f9f998a5aa6f048e51dd8419a14d8a0f1a8a2836dd734d2804fe65fa35779000000008b483045022100884d142d86652a3f47ba4746ec719bbfbd040a570b1deccbb6498c75c4ae24cb02204b9f039ff08df09cbe9f6addac960298cad530a863ea8f53982c09db8f6e381301410484ecc0d46f1918b30928fa0e4ed99f16a0fb4fde0735e7ade8416ab9fe423cc5412336376789d172787ec3457eee41c04f4938de5cc17b4a10fa336a8d752adfffffffff0260e31600000000001976a914ab68025513c3dbd2f7b92a94e0581f5d50f654e788acd0ef8000000000001976a9147f9b1a7fb68d60c536c2fd8aeaa53a8f3cc025a888ac00000000'"
      ]
     },
     "execution_count": 14,
     "metadata": {},
     "output_type": "execute_result"
    }
   ],
   "source": [
    "tx = Transaction()\n",
    "txid = bytes.fromhex(\"7957a35fe64f80d234d76d83a2a8f1a0d8149a41d81de548f0a65a8a999f6f18\")\n",
    "sig = bytes.fromhex(\"3045022100884d142d86652a3f47ba4746ec719bbfbd040a570b1deccbb6498c75c4ae24cb02204b9f039ff08df09cbe9f6addac960298cad530a863ea8f53982c09db8f6e3813\")\n",
    "pubkey = bytes.fromhex(\"0484ecc0d46f1918b30928fa0e4ed99f16a0fb4fde0735e7ade8416ab9fe423cc5412336376789d172787ec3457eee41c04f4938de5cc17b4a10fa336a8d752adf\")\n",
    "tx.add_input(txid, 0, sig, pubkey)\n",
    "tx.add_output(1500000, bytes.fromhex(\"ab68025513c3dbd2f7b92a94e0581f5d50f654e7\"))\n",
    "tx.add_output(8450000, bytes.fromhex(\"7f9b1a7fb68d60c536c2fd8aeaa53a8f3cc025a8\"))\n",
    "tx.encode().hex()"
   ]
  },
  {
   "cell_type": "code",
   "execution_count": 15,
   "id": "5d758825",
   "metadata": {},
   "outputs": [],
   "source": [
    "import random\n",
    "\n",
    "# Generate 1000 transactions for testing\n",
    "test_transactions = []\n",
    "for i in range(1000):\n",
    "    tx = Transaction()\n",
    "    tx.version = 1\n",
    "    tx.locktime = 1\n",
    "    \n",
    "    num_in = random.randint(1, 3)\n",
    "    for i in range(num_in):\n",
    "        account = random.choice(test_accounts)\n",
    "        txid = random.randint(0, 2**256).to_bytes(32, 'little')\n",
    "        vout = random.randint(0, 2)\n",
    "        rand_msg = b'12312313'\n",
    "        sig = sign(rand_msg, account.private_key)\n",
    "        pubkey = account.public_key\n",
    "        \n",
    "        tx.add_input(txid, vout, sig, pubkey)\n",
    "    \n",
    "    num_out = random.randint(1, 3)\n",
    "    for i in range(num_out):\n",
    "        account = random.choice(test_accounts)\n",
    "        value = random.randint(100000, 10000000)\n",
    "        pubkeyhash = account.public_key_hash\n",
    "        \n",
    "        tx.add_output(value, pubkeyhash)\n",
    "    \n",
    "    test_transactions.append(tx)"
   ]
  },
  {
   "cell_type": "markdown",
   "id": "d59605f1",
   "metadata": {},
   "source": [
    "## 5. Bitcoin Blocks"
   ]
  },
  {
   "cell_type": "code",
   "execution_count": 16,
   "id": "785986ef",
   "metadata": {},
   "outputs": [],
   "source": [
    "class Block:\n",
    "    def __init__(self, prev=0):\n",
    "        self.block_header = self.Header(prev)\n",
    "        self.transactions = list()  # List of class Transaction\n",
    "        \n",
    "    def encode(self):\n",
    "        raw = bytes()\n",
    "        raw += self.block_header.encode()\n",
    "        raw += int_to_varint(len(self.transactions))\n",
    "        for tx in self.transactions:\n",
    "            raw += tx.encode()\n",
    "            \n",
    "        block_size = len(raw)\n",
    "        raw = int_to_varint(block_size) + raw\n",
    "        return raw\n",
    "        \n",
    "    def add_transaction(self, tx):\n",
    "        self.transactions.append(tx)\n",
    "        \n",
    "    def gen_merkle_root(self):\n",
    "        txid_list = []\n",
    "        for tx in self.transactions:\n",
    "            txid_list.append(tx.txid)\n",
    "            \n",
    "        mt = MerkleTree()\n",
    "        self.block_header.merkle_root = mt.make_merkle_tree(txid_list)\n",
    "\n",
    "    # --- Below are inner classes ---\n",
    "    \n",
    "    class Header:\n",
    "        def __init__(self, prev):\n",
    "            self.version = int()\n",
    "            self.previous_block_hash = prev\n",
    "            self.merkle_root = bytes()\n",
    "            self.timestamp = int()\n",
    "            self.difficulty_target = int()\n",
    "            self.nonce = int()\n",
    "            \n",
    "        def encode(self):\n",
    "            raw = bytes()\n",
    "            raw += self.version.to_bytes(4, 'little')\n",
    "            raw += self.previous_block_hash\n",
    "            raw += self.merkle_root\n",
    "            raw += self.timestamp.to_bytes(4, 'little')\n",
    "            raw += self.difficulty_target.to_bytes(4, 'little')\n",
    "            raw += self.nonce.to_bytes(4, 'little')\n",
    "            return raw"
   ]
  },
  {
   "cell_type": "code",
   "execution_count": 17,
   "id": "10400fb1",
   "metadata": {},
   "outputs": [
    {
     "ename": "AttributeError",
     "evalue": "'Transaction' object has no attribute 'txid'",
     "output_type": "error",
     "traceback": [
      "\u001b[0;31m---------------------------------------------------------------------------\u001b[0m",
      "\u001b[0;31mAttributeError\u001b[0m                            Traceback (most recent call last)",
      "\u001b[0;32m/tmp/ipykernel_120/2445724152.py\u001b[0m in \u001b[0;36m<module>\u001b[0;34m\u001b[0m\n\u001b[1;32m      7\u001b[0m     \u001b[0;32mfor\u001b[0m \u001b[0mtx\u001b[0m \u001b[0;32min\u001b[0m \u001b[0mtxs\u001b[0m\u001b[0;34m:\u001b[0m\u001b[0;34m\u001b[0m\u001b[0;34m\u001b[0m\u001b[0m\n\u001b[1;32m      8\u001b[0m         \u001b[0mblock\u001b[0m\u001b[0;34m.\u001b[0m\u001b[0madd_transaction\u001b[0m\u001b[0;34m(\u001b[0m\u001b[0mtx\u001b[0m\u001b[0;34m)\u001b[0m\u001b[0;34m\u001b[0m\u001b[0;34m\u001b[0m\u001b[0m\n\u001b[0;32m----> 9\u001b[0;31m     \u001b[0mblock\u001b[0m\u001b[0;34m.\u001b[0m\u001b[0mgen_merkle_root\u001b[0m\u001b[0;34m(\u001b[0m\u001b[0;34m)\u001b[0m\u001b[0;34m\u001b[0m\u001b[0;34m\u001b[0m\u001b[0m\n\u001b[0m",
      "\u001b[0;32m/tmp/ipykernel_120/472097611.py\u001b[0m in \u001b[0;36mgen_merkle_root\u001b[0;34m(self)\u001b[0m\n\u001b[1;32m     21\u001b[0m         \u001b[0mtxid_list\u001b[0m \u001b[0;34m=\u001b[0m \u001b[0;34m[\u001b[0m\u001b[0;34m]\u001b[0m\u001b[0;34m\u001b[0m\u001b[0;34m\u001b[0m\u001b[0m\n\u001b[1;32m     22\u001b[0m         \u001b[0;32mfor\u001b[0m \u001b[0mtx\u001b[0m \u001b[0;32min\u001b[0m \u001b[0mself\u001b[0m\u001b[0;34m.\u001b[0m\u001b[0mtransactions\u001b[0m\u001b[0;34m:\u001b[0m\u001b[0;34m\u001b[0m\u001b[0;34m\u001b[0m\u001b[0m\n\u001b[0;32m---> 23\u001b[0;31m             \u001b[0mtxid_list\u001b[0m\u001b[0;34m.\u001b[0m\u001b[0mappend\u001b[0m\u001b[0;34m(\u001b[0m\u001b[0mtx\u001b[0m\u001b[0;34m.\u001b[0m\u001b[0mtxid\u001b[0m\u001b[0;34m)\u001b[0m\u001b[0;34m\u001b[0m\u001b[0;34m\u001b[0m\u001b[0m\n\u001b[0m\u001b[1;32m     24\u001b[0m \u001b[0;34m\u001b[0m\u001b[0m\n\u001b[1;32m     25\u001b[0m         \u001b[0mmt\u001b[0m \u001b[0;34m=\u001b[0m \u001b[0mMerkleTree\u001b[0m\u001b[0;34m(\u001b[0m\u001b[0;34m)\u001b[0m\u001b[0;34m\u001b[0m\u001b[0;34m\u001b[0m\u001b[0m\n",
      "\u001b[0;31mAttributeError\u001b[0m: 'Transaction' object has no attribute 'txid'"
     ]
    }
   ],
   "source": [
    "# Generate 10 blocks for testing\n",
    "test_blocks = []\n",
    "prev_hash = bytes.fromhex(\"00\"*32)\n",
    "for i in range(10):\n",
    "    block = Block()\n",
    "    txs = random.sample(test_transactions, 100)\n",
    "    for tx in txs:\n",
    "        block.add_transaction(tx)\n",
    "    block.gen_merkle_root()"
   ]
  },
  {
   "cell_type": "code",
   "execution_count": null,
   "id": "af833478",
   "metadata": {},
   "outputs": [],
   "source": []
  }
 ],
 "metadata": {
  "kernelspec": {
   "display_name": "Python 3 (ipykernel)",
   "language": "python",
   "name": "python3"
  },
  "language_info": {
   "codemirror_mode": {
    "name": "ipython",
    "version": 3
   },
   "file_extension": ".py",
   "mimetype": "text/x-python",
   "name": "python",
   "nbconvert_exporter": "python",
   "pygments_lexer": "ipython3",
   "version": "3.8.10"
  }
 },
 "nbformat": 4,
 "nbformat_minor": 5
}
