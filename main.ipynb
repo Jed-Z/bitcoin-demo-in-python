{
 "cells": [
  {
   "cell_type": "markdown",
   "id": "d9831995",
   "metadata": {},
   "source": [
    "# A Simple Bitcoin Demo in Python"
   ]
  },
  {
   "cell_type": "markdown",
   "id": "a61cf267",
   "metadata": {},
   "source": [
    "Install requirements:\n",
    "```bash\n",
    "pip install ecdsa\n",
    "pip install base58\n",
    "```"
   ]
  },
  {
   "cell_type": "code",
   "execution_count": 1,
   "id": "9f2e6713",
   "metadata": {},
   "outputs": [],
   "source": [
    "import random\n",
    "import hashlib\n",
    "import ecdsa\n",
    "from ecdsa import SigningKey, VerifyingKey, SECP256k1\n",
    "import base58"
   ]
  },
  {
   "cell_type": "markdown",
   "id": "5388bed3",
   "metadata": {},
   "source": [
    "## 1. Merkle Tree"
   ]
  },
  {
   "cell_type": "code",
   "execution_count": 2,
   "id": "2efb4c3d",
   "metadata": {},
   "outputs": [],
   "source": [
    "def double_sha256(byts):\n",
    "    '''Purpose SHA256 twice to the bytes.'''\n",
    "    return hashlib.sha256(hashlib.sha256(byts).digest()).digest()"
   ]
  },
  {
   "cell_type": "code",
   "execution_count": 3,
   "id": "1a43725a",
   "metadata": {},
   "outputs": [],
   "source": [
    "class MerkleTree:\n",
    "    def __init__(self):\n",
    "        self.txid_list = list()\n",
    "        self.merkle_root = bytes()\n",
    "\n",
    "    def make_merkle_tree(self, txid_list, is_sorted=True):\n",
    "        '''Compute merkle root for the given list of TXIDs.'''\n",
    "        if len(txid_list) == 0:\n",
    "            raise ValueError(\"empty list\")\n",
    "\n",
    "        # Sort TXIDs (strings) in lexicographical order if not ordered\n",
    "        if is_sorted:\n",
    "            self.txid_list = txid_list\n",
    "        else:\n",
    "            self.txid_list = sorted(txid_list)\n",
    "\n",
    "        # Compute merkle root row by row\n",
    "        hashes = [s for s in self.txid_list]\n",
    "        while len(hashes) > 1:\n",
    "            if len(hashes) & 1:  # Number of hashes is odd\n",
    "                hashes.append(hashes[-1])\n",
    "            next_hashes = []\n",
    "            for i in range(0, len(hashes), 2):\n",
    "                next_hashes.append(hashes[i] + hashes[i+1])\n",
    "            hashes = [double_sha256(s) for s in next_hashes]  # Hashes are bytes, not texts\n",
    "\n",
    "        self.merkle_root = hashes[0]\n",
    "        return self.merkle_root  # 32 bytes"
   ]
  },
  {
   "cell_type": "markdown",
   "id": "1ed3474a",
   "metadata": {},
   "source": [
    "## 2 Bitcoin Accounts"
   ]
  },
  {
   "cell_type": "code",
   "execution_count": 4,
   "id": "ae6f4c8b",
   "metadata": {},
   "outputs": [],
   "source": [
    "class Account:\n",
    "    pubkey_type = b'\\x04'  # The identification byte 0x04 denotes uncompressed coordinates of public key\n",
    "    \n",
    "    def __init__(self, prikey=b''):\n",
    "        '''\n",
    "        Create a Bitcoin account using the given private key.\n",
    "        If private key not provided, generate a new one randomly.\n",
    "        '''\n",
    "        if prikey:\n",
    "            self.private_key = prikey\n",
    "            self.public_key = self.gen_pubkey_from_prikey(prikey)\n",
    "        else:\n",
    "            self.private_key, self.public_key = self.gen_keypair()\n",
    "        \n",
    "        self.public_key_hash = self.gen_public_key_hash(self.public_key)\n",
    "        self.address = self.gen_address_from_pkh(self.public_key_hash)\n",
    "\n",
    "    @staticmethod\n",
    "    def gen_keypair():\n",
    "        '''Generate a new pair of keys using SECP256k1 ECDSA.'''\n",
    "        sk = SigningKey.generate(curve=SECP256k1) # Private key\n",
    "        vk = sk.verifying_key                     # Public key (without prefix)\n",
    "        return sk.to_string(), Account.pubkey_type + vk.to_string()\n",
    "        \n",
    "    @staticmethod\n",
    "    def gen_pubkey_from_prikey(prikey):\n",
    "        '''Compute public key from the given private key.'''\n",
    "        sk = SigningKey.from_string(prikey, curve=SECP256k1)\n",
    "        vk = sk.verifying_key\n",
    "        return Account.pubkey_type + vk.to_string()\n",
    "\n",
    "    @staticmethod\n",
    "    def gen_public_key_hash(pubkey):\n",
    "        '''Compute public key hash with \"double hash\".'''\n",
    "        # Note that pubkey is already prefixed\n",
    "        temp = hashlib.sha256(pubkey).digest()\n",
    "        h = hashlib.new('ripemd160')\n",
    "        h.update(temp)\n",
    "        return h.digest()\n",
    "\n",
    "    @staticmethod\n",
    "    def gen_address_from_pkh(pubkeyhash):\n",
    "        '''Compute base58check encoded address.'''\n",
    "        # Base58check encode\n",
    "        version_prefix = b'\\x00'  # Version prefix of Bitcoin addresses is 0x00\n",
    "        return base58.b58encode_check(version_prefix + pubkeyhash)"
   ]
  },
  {
   "cell_type": "code",
   "execution_count": 5,
   "id": "6fbff4f4",
   "metadata": {},
   "outputs": [
    {
     "name": "stdout",
     "output_type": "stream",
     "text": [
      "Public key: 04f028892bad7ed57d2fb57bf33081d5cfcf6f9ed3d3d7f159c2e2fff579dc341a07cf33da18bd734c600b96a72bbc4749d5141c90ec8ac328ae52ddfe2e505bdb\n",
      "Address b'1424C2F4bC9JidNjjTUZCbUxv6Sa1Mt62x'\n"
     ]
    }
   ],
   "source": [
    "# Example from textbook\n",
    "example_account = Account(bytes.fromhex(\"1E99423A4ED27608A15A2616A2B0E9E52CED330AC530EDCC32C8FFC6A526AEDD\"))\n",
    "print(\"Public key:\", example_account.public_key.hex())\n",
    "print(\"Address\", example_account.address)"
   ]
  },
  {
   "cell_type": "code",
   "execution_count": 6,
   "id": "eab84a31",
   "metadata": {},
   "outputs": [],
   "source": [
    "# Generate 100 Bitcoin accounts for testing\n",
    "test_accounts = [Account() for i in range(100)]"
   ]
  },
  {
   "cell_type": "markdown",
   "id": "a743355a",
   "metadata": {},
   "source": [
    "## 3. Signature and Verification"
   ]
  },
  {
   "cell_type": "code",
   "execution_count": 7,
   "id": "3c61f99c",
   "metadata": {},
   "outputs": [
    {
     "name": "stdout",
     "output_type": "stream",
     "text": [
      "626c6f636b636861696e2d73732d32303231\n"
     ]
    }
   ],
   "source": [
    "test_message = b\"blockchain-ss-2021\"\n",
    "print(test_message.hex())"
   ]
  },
  {
   "cell_type": "code",
   "execution_count": 8,
   "id": "a615d1d7",
   "metadata": {},
   "outputs": [],
   "source": [
    "def sign(message, prikey):\n",
    "    '''\n",
    "    Sign a byte message using the private key.\n",
    "    The signature is encoded in DER format.\n",
    "    '''\n",
    "    sk = SigningKey.from_string(prikey, curve=SECP256k1)\n",
    "    return sk.sign(message, sigencode=ecdsa.util.sigencode_der)  # DER format\n",
    "    \n",
    "def verify(signature, message, pubkey):\n",
    "    '''\n",
    "    Verify signature using the public key.\n",
    "    Returns true if succeed. Otherwise raises errors.\n",
    "    '''\n",
    "    vk = VerifyingKey.from_string(pubkey, curve=SECP256k1)\n",
    "    return vk.verify(signature, message, sigdecode=ecdsa.util.sigdecode_der)"
   ]
  },
  {
   "cell_type": "code",
   "execution_count": 9,
   "id": "f3160978",
   "metadata": {},
   "outputs": [
    {
     "name": "stdout",
     "output_type": "stream",
     "text": [
      "All succeeded.\n"
     ]
    }
   ],
   "source": [
    "fail_flag = False\n",
    "\n",
    "for account in test_accounts:\n",
    "    # Sign the message\n",
    "    test_signature = sign(test_message, account.private_key)\n",
    "    \n",
    "    # Verify the signature\n",
    "    try:\n",
    "        verify(test_signature, test_message, account.public_key[1:])\n",
    "    except ecdsa.BadSignatureError as e:\n",
    "        print(e)\n",
    "        fail_flag = True\n",
    "        \n",
    "if not fail_flag:\n",
    "    print(\"All succeeded.\")"
   ]
  },
  {
   "cell_type": "code",
   "execution_count": 10,
   "id": "d958aac0",
   "metadata": {},
   "outputs": [
    {
     "name": "stdout",
     "output_type": "stream",
     "text": [
      "Correct signature: 3044022021a99068d8a96c24c477bac480645d6dfbacd17d7326d6152de248d6ddb98c3102206b2890544f3b88ef55ab405db52ad9a8fc8d101e4f0ad5d74dcb496226bcd655\n",
      "Corrupt signature: 3044022021a99068d8a96c24c477bac480645d6dfbacd17d7326d6152de248d6ddb98c3102206b2890544f3b88ef55ab405db52ad9a8fc8d101e4f0ad5d74dcb496226bcd656\n",
      "BadSignatureError: Signature verification failed\n"
     ]
    }
   ],
   "source": [
    "# A bad case\n",
    "test_signature = sign(test_message, test_accounts[0].private_key)\n",
    "temp = list(test_signature)\n",
    "temp[-1] = (temp[-1] + 1) % 256  # Modifying one byte in the signature causes corruption\n",
    "bad_signature = bytes(temp)\n",
    "\n",
    "print(\"Correct signature:\", test_signature.hex())\n",
    "print(\"Corrupt signature:\", bad_signature.hex())\n",
    "\n",
    "try:\n",
    "    verify(bad_signature, test_message, test_accounts[0].public_key)  # Will raise an error\n",
    "except ecdsa.BadSignatureError as e:\n",
    "    print(\"BadSignatureError:\", e)"
   ]
  },
  {
   "cell_type": "markdown",
   "id": "5f2b94d3",
   "metadata": {},
   "source": [
    "## 4. Bitcoin Transactions"
   ]
  },
  {
   "cell_type": "code",
   "execution_count": 11,
   "id": "f6831b17",
   "metadata": {},
   "outputs": [],
   "source": [
    "def int_to_varint(value):\n",
    "    if value <= 0xfc:\n",
    "        return value.to_bytes(1, 'little')\n",
    "    elif value <= 0xffff:\n",
    "        return b'\\xfd' + value.to_bytes(2, 'little')\n",
    "    elif value <= 0xffffffff:\n",
    "        return b'\\xfe' + value.to_bytes(4, 'little')\n",
    "    else:\n",
    "        return b'\\xff' + value.to_bytes(8, 'little')"
   ]
  },
  {
   "cell_type": "code",
   "execution_count": 12,
   "id": "deee244a",
   "metadata": {},
   "outputs": [],
   "source": [
    "class ScriptPubKey:\n",
    "    def __init__(self, pubkeyhash):\n",
    "        self.public_key_hash = pubkeyhash\n",
    "        self.before = b'\\x76\\xa9\\x14' # OP_DUP OP_HASH160\n",
    "        self.after = b'\\x88\\xac'      # OP_EQUALVERIFY OP_CHECKSIG\n",
    "    \n",
    "    def encode(self):\n",
    "        return self.before + self.public_key_hash + self.after\n",
    "    \n",
    "class ScriptSig:\n",
    "    def __init__(self, sig, pubkey):\n",
    "        self.signature = sig\n",
    "        self.public_key = pubkey\n",
    "        self.sighash = b'\\x01'  # SIGHASH_ALL\n",
    "    \n",
    "    def encode(self):\n",
    "        raw = bytes()\n",
    "        raw += int_to_varint(len(self.signature) + 1)\n",
    "        raw += self.signature\n",
    "        raw += self.sighash\n",
    "        raw += int_to_varint(len(self.public_key))\n",
    "        raw += self.public_key\n",
    "        return raw"
   ]
  },
  {
   "cell_type": "code",
   "execution_count": 13,
   "id": "26a38098",
   "metadata": {},
   "outputs": [],
   "source": [
    "class Transaction:\n",
    "    def __init__(self):\n",
    "        self.version = 1\n",
    "        self.vin = list()  # List of class Transaction.Input\n",
    "        self.vout = list() # List of class Transaction.Output\n",
    "        self.locktime = 0\n",
    "    \n",
    "    def encode(self):\n",
    "        '''Serialize transaction data into bytes.'''\n",
    "        tx_raw = bytes()\n",
    "        tx_raw += self.version.to_bytes(4, 'little')  # 4 bytes\n",
    "        tx_raw += int_to_varint(len(self.vin))        # VarInt\n",
    "        for v in self.vin:\n",
    "            tx_raw += v.encode()\n",
    "        tx_raw += int_to_varint(len(self.vout))       # VarInt\n",
    "        for v in self.vout:\n",
    "            tx_raw += v.encode()\n",
    "        tx_raw += self.locktime.to_bytes(4, 'little') # 4 bytes\n",
    "        return tx_raw\n",
    "\n",
    "    def add_input(self, txid, vout, sig, pubkey):\n",
    "        v = self.Input(txid, vout, sig, pubkey)\n",
    "        self.vin.append(v)\n",
    "        \n",
    "    def add_output(self, value, pubkeyhash):\n",
    "        v = self.Output(value, pubkeyhash)\n",
    "        self.vout.append(v)\n",
    "        \n",
    "    def get_txid(self):\n",
    "        return double_sha256(self.encode())\n",
    "    \n",
    "    # --- Below are inner classes ---\n",
    "            \n",
    "    class Output:\n",
    "        def __init__(self, value, pubkeyhash):\n",
    "            self.value = value  # 8 bytes, in satoshis\n",
    "            self.script_pubkey = ScriptPubKey(pubkeyhash)\n",
    "            \n",
    "        def encode(self):\n",
    "            locking_script = self.script_pubkey.encode()\n",
    "            \n",
    "            out_raw = bytes()\n",
    "            out_raw += self.value.to_bytes(8, 'little')\n",
    "            out_raw += int_to_varint(len(locking_script))  # Locking script size in bytes\n",
    "            out_raw += locking_script\n",
    "            return out_raw\n",
    "\n",
    "    class Input:\n",
    "        def __init__(self, txid, vout, sig, pubkey):\n",
    "            assert len(txid) == 32\n",
    "            self.txid = txid\n",
    "            self.vout = vout  # index of output of TXID\n",
    "            self.script_sig = ScriptSig(sig, pubkey)\n",
    "            self.sequence = 0xFFFFFFFF\n",
    "            \n",
    "        def encode(self):\n",
    "            unlocking_script = self.script_sig.encode()\n",
    "            \n",
    "            in_raw = bytes()\n",
    "            in_raw += self.txid[::-1]                      # 32 bytes, reversed byte order\n",
    "            in_raw += self.vout.to_bytes(4, 'little')      # 4 bytes\n",
    "            in_raw += int_to_varint(len(unlocking_script)) # VarInt, unlocking script size\n",
    "            in_raw += unlocking_script\n",
    "            in_raw += self.sequence.to_bytes(4, 'little')  # 4 bytes\n",
    "            return in_raw"
   ]
  },
  {
   "cell_type": "code",
   "execution_count": 14,
   "id": "f27f8969",
   "metadata": {},
   "outputs": [
    {
     "data": {
      "text/plain": [
       "'0100000001186f9f998a5aa6f048e51dd8419a14d8a0f1a8a2836dd734d2804fe65fa35779000000008b483045022100884d142d86652a3f47ba4746ec719bbfbd040a570b1deccbb6498c75c4ae24cb02204b9f039ff08df09cbe9f6addac960298cad530a863ea8f53982c09db8f6e381301410484ecc0d46f1918b30928fa0e4ed99f16a0fb4fde0735e7ade8416ab9fe423cc5412336376789d172787ec3457eee41c04f4938de5cc17b4a10fa336a8d752adfffffffff0260e31600000000001976a914ab68025513c3dbd2f7b92a94e0581f5d50f654e788acd0ef8000000000001976a9147f9b1a7fb68d60c536c2fd8aeaa53a8f3cc025a888ac00000000'"
      ]
     },
     "execution_count": 14,
     "metadata": {},
     "output_type": "execute_result"
    }
   ],
   "source": [
    "# Example from textbook\n",
    "tx = Transaction()\n",
    "txid = bytes.fromhex(\"7957a35fe64f80d234d76d83a2a8f1a0d8149a41d81de548f0a65a8a999f6f18\")\n",
    "sig = bytes.fromhex(\"3045022100884d142d86652a3f47ba4746ec719bbfbd040a570b1deccbb6498c75c4ae24cb02204b9f039ff08df09cbe9f6addac960298cad530a863ea8f53982c09db8f6e3813\")\n",
    "pubkey = bytes.fromhex(\"0484ecc0d46f1918b30928fa0e4ed99f16a0fb4fde0735e7ade8416ab9fe423cc5412336376789d172787ec3457eee41c04f4938de5cc17b4a10fa336a8d752adf\")\n",
    "tx.add_input(txid, 0, sig, pubkey)\n",
    "tx.add_output(1500000, bytes.fromhex(\"ab68025513c3dbd2f7b92a94e0581f5d50f654e7\"))\n",
    "tx.add_output(8450000, bytes.fromhex(\"7f9b1a7fb68d60c536c2fd8aeaa53a8f3cc025a8\"))\n",
    "tx.encode().hex()"
   ]
  },
  {
   "cell_type": "code",
   "execution_count": 15,
   "id": "5d758825",
   "metadata": {},
   "outputs": [],
   "source": [
    "# Generate 1000 transactions for testing\n",
    "test_transactions = []\n",
    "\n",
    "for i in range(1000):\n",
    "    tx = Transaction()\n",
    "    tx.version = 1\n",
    "    tx.locktime = 1\n",
    "    \n",
    "    num_in = random.randint(1, 3)\n",
    "    for i in range(num_in):\n",
    "        account = random.choice(test_accounts)\n",
    "        txid = random.randint(0, 2**256).to_bytes(32, 'little')\n",
    "        vout = random.randint(0, 2)\n",
    "        rand_msg = b'12312313'\n",
    "        sig = sign(rand_msg, account.private_key)\n",
    "        pubkey = account.public_key\n",
    "        \n",
    "        tx.add_input(txid, vout, sig, pubkey)\n",
    "    \n",
    "    num_out = random.randint(1, 3)\n",
    "    for i in range(num_out):\n",
    "        account = random.choice(test_accounts)\n",
    "        value = random.randint(100000, 10000000)\n",
    "        pubkeyhash = account.public_key_hash\n",
    "        \n",
    "        tx.add_output(value, pubkeyhash)\n",
    "    \n",
    "    test_transactions.append(tx)"
   ]
  },
  {
   "cell_type": "markdown",
   "id": "d59605f1",
   "metadata": {},
   "source": [
    "## 5. Bitcoin Blocks"
   ]
  },
  {
   "cell_type": "code",
   "execution_count": 16,
   "id": "785986ef",
   "metadata": {},
   "outputs": [],
   "source": [
    "class Block:\n",
    "    def __init__(self, prev_hash=int(0).to_bytes(32, 'little')):\n",
    "        assert len(prev_hash) == 32\n",
    "        self.block_header = self.Header(prev_hash)\n",
    "        self.transactions = list()  # List of class Transaction\n",
    "        \n",
    "    def encode(self):\n",
    "        raw = bytes()\n",
    "        raw += self.block_header.encode()\n",
    "        raw += int_to_varint(len(self.transactions))\n",
    "        for tx in self.transactions:\n",
    "            raw += tx.encode()\n",
    "            \n",
    "        block_size = len(raw)\n",
    "        raw = int_to_varint(block_size) + raw\n",
    "        return raw\n",
    "        \n",
    "    def add_transaction(self, tx):\n",
    "        self.transactions.append(tx)\n",
    "        \n",
    "    def gen_merkle_root(self):\n",
    "        txid_list = []\n",
    "        for tx in self.transactions:\n",
    "            txid_list.append(tx.get_txid())\n",
    "            \n",
    "        mt = MerkleTree()\n",
    "        self.block_header.merkle_root = mt.make_merkle_tree(txid_list)\n",
    "        \n",
    "    def get_hash(self):\n",
    "        return double_sha256(self.encode())\n",
    "\n",
    "    # --- Below are inner classes ---\n",
    "    \n",
    "    class Header:\n",
    "        def __init__(self, prev):\n",
    "            self.version = int()\n",
    "            self.previous_block_hash = prev\n",
    "            self.merkle_root = bytes()\n",
    "            self.timestamp = int()\n",
    "            self.difficulty_target = int()\n",
    "            self.nonce = int()\n",
    "            \n",
    "        def encode(self):\n",
    "            raw = bytes()\n",
    "            raw += self.version.to_bytes(4, 'little')\n",
    "            raw += self.previous_block_hash\n",
    "            raw += self.merkle_root\n",
    "            raw += self.timestamp.to_bytes(4, 'little')\n",
    "            raw += self.difficulty_target.to_bytes(4, 'little')\n",
    "            raw += self.nonce.to_bytes(4, 'little')\n",
    "            return raw"
   ]
  },
  {
   "cell_type": "code",
   "execution_count": 17,
   "id": "10400fb1",
   "metadata": {},
   "outputs": [],
   "source": [
    "# Generate 10 blocks for testing\n",
    "test_blocks = []\n",
    "\n",
    "for i in range(10):\n",
    "    if i == 0:\n",
    "        block = Block()  # prev_hash of the first block is all-zero\n",
    "    else:\n",
    "        block = Block(test_blocks[i-1].get_hash())  # Construct a chain of block hashes\n",
    "    txs = test_transactions[i*10:(i+1)*10]\n",
    "    for tx in txs:\n",
    "        block.add_transaction(tx)\n",
    "    block.gen_merkle_root()\n",
    "    test_blocks.append(block)"
   ]
  },
  {
   "cell_type": "code",
   "execution_count": 18,
   "id": "cf4aec58",
   "metadata": {},
   "outputs": [
    {
     "data": {
      "text/plain": [
       "'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'"
      ]
     },
     "execution_count": 18,
     "metadata": {},
     "output_type": "execute_result"
    }
   ],
   "source": [
    "test_blocks[0].encode().hex()"
   ]
  },
  {
   "cell_type": "code",
   "execution_count": null,
   "id": "66c019b7",
   "metadata": {},
   "outputs": [],
   "source": []
  }
 ],
 "metadata": {
  "kernelspec": {
   "display_name": "Python 3 (ipykernel)",
   "language": "python",
   "name": "python3"
  },
  "language_info": {
   "codemirror_mode": {
    "name": "ipython",
    "version": 3
   },
   "file_extension": ".py",
   "mimetype": "text/x-python",
   "name": "python",
   "nbconvert_exporter": "python",
   "pygments_lexer": "ipython3",
   "version": "3.8.10"
  }
 },
 "nbformat": 4,
 "nbformat_minor": 5
}
